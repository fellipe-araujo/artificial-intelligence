{
 "cells": [
  {
   "cell_type": "markdown",
   "metadata": {},
   "source": [
    "## Função GPAM: transform_char_rep\n",
    "\n",
    "### Argumentos recebidos\n",
    "\n",
    "* text: str (texto que será usado para a verificação)\n",
    "\n",
    "### Descrição da função\n",
    "\n",
    "* Esta função remove caracteres repetidos quando estes estão isolados (2 caracteres ou mais).\n",
    "\n",
    "### Saída da função\n",
    "\n",
    "* Texto especificando onde o caractere repetido foi encontrado e a quantidade de repetições desse caractere.\n",
    "\n",
    "### Tempo de execução\n",
    "\n",
    "* O tempo de execução desta função foi de **00:10:10**\n",
    "\n",
    "### Base de dados\n",
    "\n",
    "* A base de dados utilizada foi a **Victor Small**"
   ]
  },
  {
   "cell_type": "code",
   "execution_count": 1,
   "metadata": {},
   "outputs": [],
   "source": [
    "import pandas as pd\n",
    "from gpam_functions import transform_char_rep"
   ]
  },
  {
   "cell_type": "code",
   "execution_count": 2,
   "metadata": {},
   "outputs": [
    {
     "name": "stdout",
     "output_type": "stream",
     "text": [
      "  themes process_id                            file_name document_type  pages  \\\n",
      "0  [232]  AI_856934  AI_856934_1926210_1060_17072013.pdf        outros      1   \n",
      "1  [232]  AI_856934    AI_856934_1926211_34_17072013.pdf        outros      1   \n",
      "2  [232]  AI_856934    AI_856934_1926211_34_17072013.pdf        outros      2   \n",
      "3  [232]  AI_856934    AI_856934_1926211_34_17072013.pdf        outros      3   \n",
      "4  [232]  AI_856934    AI_856934_1926211_34_17072013.pdf        outros      4   \n",
      "\n",
      "                                                body  \n",
      "0  {\"tribunal justiça estado bahia poder judiciár...  \n",
      "1  {\"excelentíssimo senhor doutor juiz direito ju...  \n",
      "2  {\"razões recurso inominado recorrente atlantic...  \n",
      "3  {\"empresa recorrente tornou credora dos débito...  \n",
      "4  {\"entretanto verdade parte apelante tornou tit...  \n"
     ]
    }
   ],
   "source": [
    "file_train = pd.read_csv('data_files/train_small.csv')\n",
    "\n",
    "print(file_train[:5])"
   ]
  },
  {
   "cell_type": "code",
   "execution_count": 3,
   "metadata": {},
   "outputs": [
    {
     "name": "stdout",
     "output_type": "stream",
     "text": [
      "<class 'str'>\n"
     ]
    }
   ],
   "source": [
    "x_train = file_train['body']\n",
    "\n",
    "print(type(x_train[0]))"
   ]
  },
  {
   "cell_type": "code",
   "execution_count": 4,
   "metadata": {},
   "outputs": [
    {
     "name": "stdout",
     "output_type": "stream",
     "text": [
      "{\"sentença relatório dispensado nos termos ARTIGO_38 LEI_9099 fundamentação prescrição inicialmente registro que virtude mudança posicionamento adoto entendimento distinto daquele adotado casos análogos presente consoante observa seguir análise prazo prescricional pleito repetição indébito passa necessariamente pela aferição tipo lançamento que formaliza crédito tributário fato gerador contribuição previdenciária outras palavras deve analisar o crédito referente tal tributo formalizado por declaração homologação lançamento tributário agrega idéia acertamento relação jurídica obrigacional tributária que nasce incerta ilíquida com concretização fato gerador depois lançamento ganha liquidez certeza lançamento por declaração o lançamento efetivado face declaração fornecida pelo contribuinte terceiro dos elementos indispensáveis incidência tributo no lançamento por homologação imputa ao sujeito passivo dever antecipar pagamento sem prévio exame autoridade administrativa quanto correção lançamento com essas considerações de notar que ainda que ocorrência formalização pagamento contribuição previdenciária independe prévia análise fazendária tal exação constitui portanto verdadeiro tributo sujeito lançamento por homologação neste sentido recente julgado superior tribunal justiça embargos divergência dos contribuintes tributário execução fiscal desconto folha contribuição previdenciária acórdão embargado que entende ser tributo sujeito lançamento ofício acórdão paradigma que entendeu ser tributo sujeito lançamento por homologação assente nesta corte entendimento que contribuição previdenciária tributo sujeito lançamento por homologação por isso que prescrição relação ela computada consoante tese dos cinco mais cinco partir sua retenção máxime pela sua inequívoca natureza tributária stj por intermédio sua corte especial julgamento ai nos eresp declarou inconstitucionalidade segunda parte ARTIGO_4º lei complementar qual estabelece aplicação retroativa seu ARTIGO_3º porquanto ofende princípios autonomia independência dos poderes garantia direito adquirido ato jurídico perfeito da coisa julgada embargos divergência dos contribuintes providos para reconhecer prescrição decenal embargos divergência ipesp tributário repetição indébito contribuição previdenciária servidor público juros mora\"}\n"
     ]
    }
   ],
   "source": [
    "index = 0\n",
    "for item in x_train:\n",
    "  x_train.at[index] = transform_char_rep(item)\n",
    "  \n",
    "  index += 1\n",
    "\n",
    "print(x_train.at[71])"
   ]
  }
 ],
 "metadata": {
  "kernelspec": {
   "display_name": "Python 3.8.10 64-bit",
   "language": "python",
   "name": "python3"
  },
  "language_info": {
   "codemirror_mode": {
    "name": "ipython",
    "version": 3
   },
   "file_extension": ".py",
   "mimetype": "text/x-python",
   "name": "python",
   "nbconvert_exporter": "python",
   "pygments_lexer": "ipython3",
   "version": "3.8.10"
  },
  "orig_nbformat": 4,
  "vscode": {
   "interpreter": {
    "hash": "916dbcbb3f70747c44a77c7bcd40155683ae19c65e1c03b4aa3499c5328201f1"
   }
  }
 },
 "nbformat": 4,
 "nbformat_minor": 2
}
