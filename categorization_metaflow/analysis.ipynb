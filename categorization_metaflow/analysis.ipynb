{
 "cells": [
  {
   "cell_type": "code",
   "execution_count": 17,
   "metadata": {},
   "outputs": [],
   "source": [
    "from metaflow import Flow\n",
    "\n",
    "flow = Flow('CategorizationFlow')\n",
    "runs = list(flow)"
   ]
  },
  {
   "cell_type": "code",
   "execution_count": 18,
   "metadata": {},
   "outputs": [
    {
     "name": "stdout",
     "output_type": "stream",
     "text": [
      "Run('CategorizationFlow/1655257877265684')\n",
      "Run('CategorizationFlow/1655247960074382')\n",
      "Run('CategorizationFlow/1655244487347612')\n",
      "Run('CategorizationFlow/1655240650524184')\n",
      "Run('CategorizationFlow/1655238287822359')\n"
     ]
    }
   ],
   "source": [
    "for run in flow:\n",
    "  print(run)"
   ]
  },
  {
   "cell_type": "code",
   "execution_count": 19,
   "metadata": {},
   "outputs": [
    {
     "name": "stdout",
     "output_type": "stream",
     "text": [
      "<MetaflowData: x_test, classification_report, fi_score_micro, grid_search, y_train, confusion_matrix, x_train, y_test, predicted, name>\n"
     ]
    }
   ],
   "source": [
    "from metaflow import Run\n",
    "\n",
    "run = Run('CategorizationFlow/1655257877265684')\n",
    "\n",
    "print(run.data)"
   ]
  },
  {
   "cell_type": "code",
   "execution_count": 25,
   "metadata": {},
   "outputs": [
    {
     "name": "stdout",
     "output_type": "stream",
     "text": [
      "GridSearch =>\n",
      "GridSearchCV(estimator=Pipeline(steps=[('vect', CountVectorizer()),\n",
      "                                       ('clf', SGDClassifier())]),\n",
      "             param_grid={'clf__alpha': [1.0, 0.01], 'vect__max_df': [0.5, 0.75],\n",
      "                         'vect__ngram_range': [(1, 1), (1, 2)]},\n",
      "             refit='f1_micro', return_train_score=True,\n",
      "             scoring={'f1_macro', 'f1_micro', 'accuracy', 'f1_weighted'},\n",
      "             verbose=3)\n",
      "\n",
      "Best Params =>\n",
      "{'clf__alpha': 0.01, 'vect__max_df': 0.5, 'vect__ngram_range': (1, 2)}\n",
      "\n",
      "Best Score =>\n",
      "0.9194726929574157\n",
      "\n",
      "Classification Report =>\n",
      "                                  precision    recall  f1-score   support\n",
      "\n",
      "          acordao_de_2_instancia       0.97      0.55      0.70       273\n",
      "agravo_em_recurso_extraordinario       0.85      0.12      0.22      1841\n",
      "     despacho_de_admissibilidade       0.98      0.22      0.36       198\n",
      "                          outros       0.94      1.00      0.97     85408\n",
      "                   peticao_do_RE       0.89      0.52      0.66      6331\n",
      "                        sentenca       0.95      0.55      0.70      1475\n",
      "\n",
      "                        accuracy                           0.94     95526\n",
      "                       macro avg       0.93      0.49      0.60     95526\n",
      "                    weighted avg       0.93      0.94      0.93     95526\n",
      "\n",
      "\n",
      "F1 Score - micro =>\n",
      "0.9375457990494734\n",
      "\n",
      "Confusion Matrix =>\n",
      "[[  149     0     0   124     0     0]\n",
      " [    0   227     0  1518    96     0]\n",
      " [    0     0    43   155     0     0]\n",
      " [    4    40     1 85018   310    35]\n",
      " [    1     0     0  3012  3310     8]\n",
      " [    0     0     0   662     0   813]]\n"
     ]
    }
   ],
   "source": [
    "from metaflow import Step\n",
    "\n",
    "step = Step('CategorizationFlow/1655257877265684/evaluate')\n",
    "print('GridSearch =>')\n",
    "print(step.task.data.grid_search)\n",
    "print('\\nBest Params =>')\n",
    "print(step.task.data.grid_search.best_params_)\n",
    "print('\\nBest Score =>')\n",
    "print(step.task.data.grid_search.best_score_)\n",
    "print('\\nClassification Report =>')\n",
    "print(step.task.data.classification_report)\n",
    "print('\\nF1 Score - micro =>')\n",
    "print(step.task.data.fi_score_micro)\n",
    "print('\\nConfusion Matrix =>')\n",
    "print(step.task.data.confusion_matrix)"
   ]
  }
 ],
 "metadata": {
  "kernelspec": {
   "display_name": "Python 3.8.10 64-bit",
   "language": "python",
   "name": "python3"
  },
  "language_info": {
   "codemirror_mode": {
    "name": "ipython",
    "version": 3
   },
   "file_extension": ".py",
   "mimetype": "text/x-python",
   "name": "python",
   "nbconvert_exporter": "python",
   "pygments_lexer": "ipython3",
   "version": "3.8.10"
  },
  "orig_nbformat": 4,
  "vscode": {
   "interpreter": {
    "hash": "916dbcbb3f70747c44a77c7bcd40155683ae19c65e1c03b4aa3499c5328201f1"
   }
  }
 },
 "nbformat": 4,
 "nbformat_minor": 2
}
