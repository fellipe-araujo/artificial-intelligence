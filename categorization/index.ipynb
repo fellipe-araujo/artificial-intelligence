{
 "cells": [
  {
   "cell_type": "code",
   "execution_count": 23,
   "metadata": {},
   "outputs": [],
   "source": [
    "import pandas as pd\n",
    "from sklearn.feature_extraction.text import CountVectorizer, TfidfVectorizer\n",
    "from sklearn.naive_bayes import MultinomialNB\n",
    "from sklearn.model_selection import GridSearchCV\n",
    "from sklearn.pipeline import Pipeline\n",
    "from sklearn.linear_model import SGDClassifier\n",
    "from sklearn.metrics import f1_score\n",
    "from tabulate import tabulate"
   ]
  },
  {
   "cell_type": "code",
   "execution_count": 3,
   "metadata": {},
   "outputs": [
    {
     "name": "stdout",
     "output_type": "stream",
     "text": [
      "  themes process_id                            file_name document_type  pages  \\\n",
      "0  [232]  AI_856934  AI_856934_1926210_1060_17072013.pdf        outros      1   \n",
      "1  [232]  AI_856934    AI_856934_1926211_34_17072013.pdf        outros      1   \n",
      "2  [232]  AI_856934    AI_856934_1926211_34_17072013.pdf        outros      2   \n",
      "3  [232]  AI_856934    AI_856934_1926211_34_17072013.pdf        outros      3   \n",
      "4  [232]  AI_856934    AI_856934_1926211_34_17072013.pdf        outros      4   \n",
      "\n",
      "                                                body  \n",
      "0  {\"tribunal justiça estado bahia poder judiciár...  \n",
      "1  {\"excelentíssimo senhor doutor juiz direito ju...  \n",
      "2  {\"razões recurso inominado recorrente atlantic...  \n",
      "3  {\"empresa recorrente tornou credora dos débito...  \n",
      "4  {\"entretanto verdade parte apelante tornou tit...  \n"
     ]
    }
   ],
   "source": [
    "file_train = pd.read_csv('data_files/train_small.csv')\n",
    "file_test = pd.read_csv('data_files/test_small.csv')\n",
    "\n",
    "print(file_train[:5])"
   ]
  },
  {
   "cell_type": "code",
   "execution_count": 4,
   "metadata": {},
   "outputs": [
    {
     "name": "stdout",
     "output_type": "stream",
     "text": [
      "0    {\"tribunal justiça estado bahia poder judiciár...\n",
      "1    {\"excelentíssimo senhor doutor juiz direito ju...\n",
      "2    {\"razões recurso inominado recorrente atlantic...\n",
      "3    {\"empresa recorrente tornou credora dos débito...\n",
      "4    {\"entretanto verdade parte apelante tornou tit...\n",
      "Name: body, dtype: object\n",
      "0    outros\n",
      "1    outros\n",
      "2    outros\n",
      "3    outros\n",
      "4    outros\n",
      "Name: document_type, dtype: object\n"
     ]
    }
   ],
   "source": [
    "x_train = file_train['body']\n",
    "y_train = file_train['document_type']\n",
    "\n",
    "x_test = file_test['body']\n",
    "y_test = file_test['document_type']\n",
    "\n",
    "print(x_train[:5])\n",
    "print(y_train[:5])"
   ]
  },
  {
   "cell_type": "markdown",
   "metadata": {},
   "source": [
    "### TfidfVectorizer + MultinomialNB"
   ]
  },
  {
   "cell_type": "code",
   "execution_count": 8,
   "metadata": {},
   "outputs": [
    {
     "name": "stdout",
     "output_type": "stream",
     "text": [
      "Fitting 5 folds for each of 18 candidates, totalling 90 fits\n",
      "Best parameters: {'clf__alpha': 1, 'vect__max_df': 0.5, 'vect__ngram_range': (1, 2)}\n",
      "Best score: 0.901157353784587\n"
     ]
    }
   ],
   "source": [
    "pipeline = Pipeline([\n",
    "  ('vect', TfidfVectorizer()),\n",
    "  ('clf', MultinomialNB()),\n",
    "])\n",
    "\n",
    "parameters = {\n",
    "  'vect__max_df': (0.5, 0.75, 1.0),\n",
    "  'vect__ngram_range': ((1, 1), (1, 2)), # unigrams or bigrams\n",
    "  'clf__alpha': (1, 0.1, 0.01),\n",
    "}\n",
    "\n",
    "scoring = {\n",
    "  'accuracy',\n",
    "  'f1_micro',\n",
    "  'f1_macro',\n",
    "  'f1_weighted'\n",
    "}\n",
    "\n",
    "grid_search = GridSearchCV(estimator=pipeline, param_grid=parameters, n_jobs=1, verbose=1, return_train_score=False, scoring=scoring, refit='f1_micro')\n",
    "\n",
    "grid_search.fit(x_train, y_train)\n",
    "\n",
    "print('Best parameters: {}'.format(grid_search.best_params_))\n",
    "print('Best score: {}'.format(grid_search.best_score_))"
   ]
  },
  {
   "cell_type": "code",
   "execution_count": 10,
   "metadata": {},
   "outputs": [
    {
     "name": "stdout",
     "output_type": "stream",
     "text": [
      "F1 Score (micro): 0.9034399011787366\n"
     ]
    }
   ],
   "source": [
    "best_estimator = grid_search.best_estimator_\n",
    "\n",
    "print('F1 Score (micro): {}'.format(f1_score(y_test, best_estimator.predict(x_test), average='micro')))"
   ]
  },
  {
   "cell_type": "markdown",
   "metadata": {},
   "source": [
    "### TfidfVectorizer + SGDClassifier"
   ]
  },
  {
   "cell_type": "code",
   "execution_count": 11,
   "metadata": {},
   "outputs": [
    {
     "name": "stdout",
     "output_type": "stream",
     "text": [
      "Fitting 5 folds for each of 27 candidates, totalling 135 fits\n",
      "Best parameters: {'clf__alpha': 1, 'vect__max_df': 0.5, 'vect__ngram_range': (1, 1)}\n",
      "Best score: 0.8989190241242083\n"
     ]
    }
   ],
   "source": [
    "pipeline = Pipeline([\n",
    "  ('vect', TfidfVectorizer()),\n",
    "  ('clf', SGDClassifier()),\n",
    "])\n",
    "\n",
    "parameters = {\n",
    "  'vect__max_df': (0.5, 0.75, 1.0),\n",
    "  'vect__ngram_range': ((1, 1), (1, 2)), # unigrams or bigrams\n",
    "  'clf__alpha': (1, 0.1, 0.01),\n",
    "}\n",
    "\n",
    "scoring = {\n",
    "  'accuracy',\n",
    "  'f1_micro',\n",
    "  'f1_macro',\n",
    "  'f1_weighted'\n",
    "}\n",
    "\n",
    "grid_search = GridSearchCV(estimator=pipeline, param_grid=parameters, n_jobs=1, verbose=1, return_train_score=False, scoring=scoring, refit='f1_micro')\n",
    "\n",
    "grid_search.fit(x_train, y_train)\n",
    "\n",
    "print('Best parameters: {}'.format(grid_search.best_params_))\n",
    "print('Best score: {}'.format(grid_search.best_score_))"
   ]
  },
  {
   "cell_type": "code",
   "execution_count": 12,
   "metadata": {},
   "outputs": [
    {
     "name": "stdout",
     "output_type": "stream",
     "text": [
      "F1 Score (micro): 0.8940811925549065\n"
     ]
    }
   ],
   "source": [
    "best_estimator = grid_search.best_estimator_\n",
    "\n",
    "print('F1 Score (micro): {}'.format(f1_score(y_test, best_estimator.predict(x_test), average='micro')))"
   ]
  },
  {
   "cell_type": "markdown",
   "metadata": {},
   "source": [
    "### CountVectorizer + MultinomialNB"
   ]
  },
  {
   "cell_type": "code",
   "execution_count": 15,
   "metadata": {},
   "outputs": [
    {
     "name": "stdout",
     "output_type": "stream",
     "text": [
      "Fitting 5 folds for each of 18 candidates, totalling 90 fits\n",
      "Best parameters: {'clf__alpha': 1, 'vect__max_df': 0.75, 'vect__ngram_range': (1, 2)}\n",
      "Best score: 0.866181260134713\n"
     ]
    }
   ],
   "source": [
    "pipeline = Pipeline([\n",
    "  ('vect', CountVectorizer()),\n",
    "  ('clf', MultinomialNB()),\n",
    "])\n",
    "\n",
    "parameters = {\n",
    "  'vect__max_df': (0.5, 0.75, 1.0),\n",
    "  'vect__ngram_range': ((1, 1), (1, 2)), # unigrams or bigrams\n",
    "  'clf__alpha': (1, 0.1, 0.01),\n",
    "}\n",
    "\n",
    "scoring = {\n",
    "  'accuracy',\n",
    "  'f1_micro',\n",
    "  'f1_macro',\n",
    "  'f1_weighted'\n",
    "}\n",
    "\n",
    "grid_search = GridSearchCV(estimator=pipeline, param_grid=parameters, n_jobs=1, verbose=1, return_train_score=False, scoring=scoring, refit='f1_micro')\n",
    "\n",
    "grid_search.fit(x_train, y_train)\n",
    "\n",
    "print('Best parameters: {}'.format(grid_search.best_params_))\n",
    "print('Best score: {}'.format(grid_search.best_score_))"
   ]
  },
  {
   "cell_type": "code",
   "execution_count": 16,
   "metadata": {},
   "outputs": [
    {
     "name": "stdout",
     "output_type": "stream",
     "text": [
      "F1 Score (micro): 0.8997550405125306\n"
     ]
    }
   ],
   "source": [
    "best_estimator = grid_search.best_estimator_\n",
    "\n",
    "print('F1 Score (micro): {}'.format(f1_score(y_test, best_estimator.predict(x_test), average='micro')))"
   ]
  },
  {
   "cell_type": "markdown",
   "metadata": {},
   "source": [
    "### CountVectorizer + SGDClassifier"
   ]
  },
  {
   "cell_type": "code",
   "execution_count": 17,
   "metadata": {},
   "outputs": [
    {
     "name": "stdout",
     "output_type": "stream",
     "text": [
      "Fitting 5 folds for each of 18 candidates, totalling 90 fits\n",
      "Best parameters: {'clf__alpha': 0.01, 'vect__max_df': 0.75, 'vect__ngram_range': (1, 2)}\n",
      "Best score: 0.9198613774324833\n"
     ]
    }
   ],
   "source": [
    "pipeline = Pipeline([\n",
    "  ('vect', CountVectorizer()),\n",
    "  ('clf', SGDClassifier()),\n",
    "])\n",
    "\n",
    "parameters = {\n",
    "  'vect__max_df': (0.5, 0.75, 1.0),\n",
    "  'vect__ngram_range': ((1, 1), (1, 2)), # unigrams or bigrams\n",
    "  'clf__alpha': (1, 0.1, 0.01),\n",
    "}\n",
    "\n",
    "scoring = {\n",
    "  'accuracy',\n",
    "  'f1_micro',\n",
    "  'f1_macro',\n",
    "  'f1_weighted'\n",
    "}\n",
    "\n",
    "grid_search = GridSearchCV(estimator=pipeline, param_grid=parameters, n_jobs=1, verbose=1, return_train_score=False, scoring=scoring, refit='f1_micro')\n",
    "\n",
    "grid_search.fit(x_train, y_train)\n",
    "\n",
    "print('Best parameters: {}'.format(grid_search.best_params_))\n",
    "print('Best score: {}'.format(grid_search.best_score_))"
   ]
  },
  {
   "cell_type": "code",
   "execution_count": 18,
   "metadata": {},
   "outputs": [
    {
     "name": "stdout",
     "output_type": "stream",
     "text": [
      "F1 Score (micro): 0.939461507861734\n"
     ]
    }
   ],
   "source": [
    "best_estimator = grid_search.best_estimator_\n",
    "\n",
    "print('F1 Score (micro): {}'.format(f1_score(y_test, best_estimator.predict(x_test), average='micro')))"
   ]
  },
  {
   "cell_type": "markdown",
   "metadata": {},
   "source": [
    "## Results"
   ]
  },
  {
   "cell_type": "code",
   "execution_count": 24,
   "metadata": {},
   "outputs": [
    {
     "name": "stdout",
     "output_type": "stream",
     "text": [
      "╒═════════════════════════════════╤════════════════╤═════════════════════╤══════════════╤══════════════╤════════════════════╕\n",
      "│ Classifiers                     │   vect__max_df │ vect__ngram_range   │   clf__alpha │   Best Score │   F1 Score - micro │\n",
      "╞═════════════════════════════════╪════════════════╪═════════════════════╪══════════════╪══════════════╪════════════════════╡\n",
      "│ TfidfVectorizer + MultinomialNB │           0.5  │ (1, 2)              │         1    │     0.901157 │           0.903439 │\n",
      "├─────────────────────────────────┼────────────────┼─────────────────────┼──────────────┼──────────────┼────────────────────┤\n",
      "│ TfidfVectorizer + SGDClassifier │           0.5  │ (1, 1)              │         1    │     0.898919 │           0.894081 │\n",
      "├─────────────────────────────────┼────────────────┼─────────────────────┼──────────────┼──────────────┼────────────────────┤\n",
      "│ CountVectorizer + MultinomialNB │           0.75 │ (1, 2)              │         1    │     0.866181 │           0.899755 │\n",
      "├─────────────────────────────────┼────────────────┼─────────────────────┼──────────────┼──────────────┼────────────────────┤\n",
      "│ CountVectorizer + SGDClassifier │           0.75 │ (1, 2)              │         0.01 │     0.919861 │           0.939461 │\n",
      "╘═════════════════════════════════╧════════════════╧═════════════════════╧══════════════╧══════════════╧════════════════════╛\n"
     ]
    }
   ],
   "source": [
    "header = ['Classifiers', 'vect__max_df', 'vect__ngram_range', 'clf__alpha', 'Best Score', 'F1 Score - micro']\n",
    "\n",
    "metrics = []\n",
    "\n",
    "metrics.append(['TfidfVectorizer + MultinomialNB', '0.5', '(1, 2)', '1.0', '0.901157', '0.903439'])\n",
    "metrics.append(['TfidfVectorizer + SGDClassifier', '0.5', '(1, 1)', '1.0', '0.898919', '0.894081'])\n",
    "metrics.append(['CountVectorizer + MultinomialNB', '0.75', '(1, 2)', '1.0', '0.866181', '0.899755'])\n",
    "metrics.append(['CountVectorizer + SGDClassifier', '0.75', '(1, 2)', '0.01', '0.919861', '0.939461'])\n",
    "\n",
    "print(tabulate(metrics, headers=header, tablefmt=\"fancy_grid\"))"
   ]
  }
 ],
 "metadata": {
  "interpreter": {
   "hash": "916dbcbb3f70747c44a77c7bcd40155683ae19c65e1c03b4aa3499c5328201f1"
  },
  "kernelspec": {
   "display_name": "Python 3.8.10 64-bit",
   "language": "python",
   "name": "python3"
  },
  "language_info": {
   "codemirror_mode": {
    "name": "ipython",
    "version": 3
   },
   "file_extension": ".py",
   "mimetype": "text/x-python",
   "name": "python",
   "nbconvert_exporter": "python",
   "pygments_lexer": "ipython3",
   "version": "3.8.10"
  },
  "orig_nbformat": 4
 },
 "nbformat": 4,
 "nbformat_minor": 2
}
