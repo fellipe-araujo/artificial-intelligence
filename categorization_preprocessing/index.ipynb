{
 "cells": [
  {
   "cell_type": "code",
   "execution_count": 34,
   "metadata": {},
   "outputs": [],
   "source": [
    "import pandas as pd\n",
    "from sklearn.feature_extraction.text import CountVectorizer, TfidfVectorizer, TfidfTransformer\n",
    "from sklearn.naive_bayes import MultinomialNB\n",
    "from sklearn.model_selection import GridSearchCV\n",
    "from sklearn.pipeline import Pipeline\n",
    "from sklearn.linear_model import SGDClassifier\n",
    "from sklearn.metrics import f1_score\n",
    "from nltk.stem.porter import PorterStemmer\n",
    "import nltk\n",
    "from tabulate import tabulate\n",
    "import re"
   ]
  },
  {
   "cell_type": "code",
   "execution_count": 35,
   "metadata": {},
   "outputs": [
    {
     "name": "stdout",
     "output_type": "stream",
     "text": [
      "  themes process_id                            file_name document_type  pages  \\\n",
      "0  [232]  AI_856934  AI_856934_1926210_1060_17072013.pdf        outros      1   \n",
      "1  [232]  AI_856934    AI_856934_1926211_34_17072013.pdf        outros      1   \n",
      "2  [232]  AI_856934    AI_856934_1926211_34_17072013.pdf        outros      2   \n",
      "3  [232]  AI_856934    AI_856934_1926211_34_17072013.pdf        outros      3   \n",
      "4  [232]  AI_856934    AI_856934_1926211_34_17072013.pdf        outros      4   \n",
      "\n",
      "                                                body  \n",
      "0  {\"tribunal justiça estado bahia poder judiciár...  \n",
      "1  {\"excelentíssimo senhor doutor juiz direito ju...  \n",
      "2  {\"razões recurso inominado recorrente atlantic...  \n",
      "3  {\"empresa recorrente tornou credora dos débito...  \n",
      "4  {\"entretanto verdade parte apelante tornou tit...  \n"
     ]
    }
   ],
   "source": [
    "file_train = pd.read_csv('data_files/train_small.csv')\n",
    "file_test = pd.read_csv('data_files/test_small.csv')\n",
    "\n",
    "print(file_train[:5])"
   ]
  },
  {
   "cell_type": "code",
   "execution_count": 36,
   "metadata": {},
   "outputs": [
    {
     "name": "stdout",
     "output_type": "stream",
     "text": [
      "{\"tribunal justiça estado bahia poder judiciário salvador juizado cível defesa consumidor universo matutino projudi acm campus universidade salgado oliveira universo pituba salvador processo parte autora nailton lantyer cordeiro araujo parte atlantico fundo investimento direitos creditorios despacho vistos etc indefiro requerido pela parte demandante aguarde a sessão conciliação designada salvador de julho paulo alberto nunes chenaud juiz direito documento assinado eletronicamente\"}\n",
      "outros\n"
     ]
    }
   ],
   "source": [
    "x_train = file_train['body']\n",
    "y_train = file_train['document_type']\n",
    "\n",
    "x_test = file_test['body']\n",
    "y_test = file_test['document_type']\n",
    "\n",
    "print(x_train[0])\n",
    "print(y_train[0])"
   ]
  },
  {
   "cell_type": "code",
   "execution_count": 37,
   "metadata": {},
   "outputs": [
    {
     "name": "stdout",
     "output_type": "stream",
     "text": [
      "{'ela', 'dela', 'foste', 'algumas', 'sete', 'tenha', 'novo', 'pela', 'devem', 'menos', 'mês', 'conselho', 'quem', 'questão', 'estivéramos', 'naquela', 'onze', 'onde', 'possível', 'tanta', 'veja', 'vêm', 'tem', 'logo', 'nos', 'maiorias', 'estivestes', 'vários', 'ponto', 'nove', 'custa', 'apenas', 'estamos', 'vem', 'daqueles', 'deles', 'porquanto', 'ontem', 'há', 'mil', 'nessas', 'hão', 'quinze', 'pelo', 'dezassete', 'primeiro', 'seu', 'lado', 'tinha', 'através', 'dão', 'nesse', 'querem', 'houverei', 'ainda', 'dos', 'geral', 'primeira', 'vosso', 'dele', 'nível', 'qualquer', 'houvéramos', 'apoia', 'sob', 'tentei', 'teve', 'pode', 'vos', 'inclusive', 'perto', 'sétima', 'usar', 'esta', 'essas', 'final', 'povo', 'houverão', 'teríamos', 'atrás', 'os', 'vossa', 'nosso', 'zero', 'estejam', 'outras', 'favor', 'sexta', 'boa', 'uns', 'relação', 'tinham', 'teriam', 'esteja', 'grupo', 'ora', 'pôde', 'dezasseis', 'está', 'mesmo', 'desta', 'fossem', 'seja', 'lhe', 'fui', 'oitavo', 'deve', 'cuja', 'momento', 'dentro', 'tentar', 'teu', 'para', 'número', 'aquelas', 'sempre', 'houveria', 'à', 'houveremos', 'houveríamos', 'são', 'tente', 'aqueles', 'houverá', 'daquela', 'dezanove', 'contudo', 'eu', 'parte', 'és', 'mas', 'dessa', 'oito', 'quais', 'após', 'fim', 'sem', 'serei', 'tenhamos', 'hajam', 'sois', 'tivéssemos', 'é', 'diz', 'posso', 'catorze', 'às', 'quinta', 'que', 'fará', 'vossos', 'fosse', 'nova', 'pouca', 'forem', 'eram', 'desses', 'tivera', 'dar', 'havemos', 'fez', 'fazer', 'ali', 'todas', 'tenho', 'quero', 'baixo', 'próprio', 'quando', 'ele', 'todo', 'conhecida', 'quarto', 'falta', 'cento', 'houvesse', 'das', 'vais', 'coisa', 'vocês', 'dessas', 'nossas', 'pouco', 'já', 'fazes', 'tivermos', 'nossos', 'sei', 'tivessem', 'estivermos', 'tivesse', 'exemplo', 'só', 'estes', 'certeza', 'por', 'estas', 'aqui', 'puderam', 'tenham', 'tudo', 'esses', 'oitava', 'depois', 'cinco', 'estivemos', 'sabe', 'ver', 'eles', 'naquele', 'tivéramos', 'houveram', 'irá', 'dois', 'iniciar', 'tempo', 'antes', 'estás', 'fomos', 'sejamos', 'faz', 'corrente', 'estivera', 'terceiro', 'seriam', 'posição', 'direita', 'nesses', 'quinto', 'quarta', 'poderá', 'tipo', 'nem', 'dá', 'terceira', 'forma', 'estar', 'umas', 'fazemos', 'e', 'adeus', 'se', 'fazia', 'meus', 'toda', 'duas', 'área', 'quanto', 'pois', 'números', 'disso', 'enquanto', 'local', 'três', 'próxima', 'vens', 'seis', 'minha', 'vós', 'te', 'dez', 'serão', 'suas', 'podia', 'partir', 'algo', 'fazeis', 'terão', 'foram', 'apontar', 'vão', 'quieto', 'neste', 'ir', 'dezoito', 'estará', 'des', 'eventual', 'não', 'segunda', 'pontos', 'com', 'como', 'até', 'nós', 'saber', 'estou', 'nestas', 'treze', 'era', 'fora', 'éramos', 'destes', 'cima', 'quieta', 'deverá', 'teremos', 'um', 'ambos', 'vinda', 'pegar', 'houverem', 'na', 'isso', 'seria', 'elas', 'menor', 'meio', 'portanto', 'muito', 'nunca', 'tais', 'estava', 'ter', 'dizer', 'estiveste', 'teria', 'desde', 'lá', 'conhecido', 'houveriam', 'aquela', 'então', 'alguns', 'estado', 'destas', 'ser', 'as', 'diante', 'tínhamos', 'breve', 'possivelmente', 'me', 'porque', 'sua', 'estivessem', 'seremos', 'vossas', 'somos', 'num', 'houvessem', 'em', 'houvemos', 'minhas', 'inicio', 'vai', 'dizem', 'tarde', 'for', 'nele', 'houver', 'sistema', 'somente', 'põem', 'teus', 'meu', 'deste', 'podem', 'quer', 'doze', 'nas', 'bastante', 'tive', 'estavam', 'quê', 'daquele', 'ademais', 'cada', 'certamente', 'porquê', 'ao', 'debaixo', 'põe', 'lugar', 'tal', 'este', 'embora', 'caminho', 'da', 'tua', 'tivemos', 'fôssemos', 'estiveram', 'estejamos', 'sexto', 'parece', 'também', 'nossa', 'apoio', 'ambas', 'grandes', 'novas', 'a', 'tiver', 'tiverem', 'terá', 'terei', 'outros', 'além', 'faço', 'pelas', 'segundo', 'houvéssemos', 'meses', 'uma', 'nenhuma', 'mal', 'houvera', 'outra', 'nada', 'bom', 'no', 'pelos', 'estivesse', 'seus', 'houve', 'temos', 'assim', 'todos', 'aos', 'porém', 'agora', 'mais', 'tivestes', 'lhes', 'tiveste', 'muitos', 'ou', 'cá', 'formos', 'numa', 'ligado', 'tendes', 'contra', 'delas', 'fôramos', 'bem', 'quatro', 'estávamos', 'haja', 'o', 'esteve', 'aquilo', 'aquele', 'sobre', 'cedo', 'estive', 'usa', 'acerca', 'comprida', 'tanto', 'foi', 'desse', 'sétimo', 'tiveram', 'demais', 'tu', 'do', 'obrigado', 'de', 'seríamos', 'longe', 'daquelas', 'tens', 'poder', 'estiverem', 'nessa', 'estiver', 'aí', 'qual', 'sejam', 'próximo', 'hajamos', 'tão', 'houvermos', 'vez', 'estão', 'nesta', 'você', 'novos', 'isto', 'máximo', 'grande', 'valor', 'sou', 'tentaram', 'nestes', 'entre', 'fazem', 'será', 'esse', 'tuas', 'têm', 'comprido', 'obrigada', 'vezes', 'estivéssemos', 'último', 'essa', 'vindo', 'nela', 'cujo', 'vinte', 'nuns', 'sim', 'hei', 'maioria', 'talvez', 'tém', 'fostes', 'maior'}\n"
     ]
    }
   ],
   "source": [
    "from gpam_functions import get_stopwords\n",
    "\n",
    "stops = get_stopwords()\n",
    "\n",
    "print(stops)"
   ]
  },
  {
   "cell_type": "code",
   "execution_count": 17,
   "metadata": {},
   "outputs": [
    {
     "name": "stdout",
     "output_type": "stream",
     "text": [
      "  (0, 164531)\t1\n",
      "  (0, 91608)\t1\n",
      "  (0, 17373)\t1\n",
      "  (0, 90880)\t1\n",
      "  (0, 148958)\t3\n",
      "  (0, 91025)\t1\n",
      "  (0, 38335)\t1\n",
      "  (0, 40784)\t1\n",
      "  (0, 34175)\t1\n",
      "  (0, 168168)\t2\n",
      "  (0, 104917)\t1\n",
      "  (0, 132787)\t1\n",
      "  (0, 2974)\t1\n",
      "  (0, 24102)\t1\n",
      "  (0, 168156)\t1\n",
      "  (0, 148847)\t1\n",
      "  (0, 118973)\t1\n",
      "  (0, 127862)\t1\n",
      "  (0, 132247)\t1\n",
      "  (0, 16102)\t1\n",
      "  (0, 111322)\t1\n",
      "  (0, 94834)\t1\n",
      "  (0, 35478)\t1\n",
      "  (0, 11433)\t1\n",
      "  (0, 15080)\t1\n",
      "  (0, 67140)\t1\n",
      "  (0, 85064)\t1\n",
      "  (0, 45924)\t1\n",
      "  (0, 36589)\t1\n",
      "  (0, 43604)\t1\n",
      "  (0, 172997)\t1\n",
      "  (0, 58292)\t1\n",
      "  (0, 81863)\t1\n",
      "  (0, 142424)\t1\n",
      "  (0, 41480)\t1\n",
      "  (0, 5891)\t1\n",
      "  (0, 152062)\t1\n",
      "  (0, 32352)\t1\n",
      "  (0, 43282)\t1\n",
      "  (0, 91105)\t1\n",
      "  (0, 124568)\t1\n",
      "  (0, 6764)\t1\n",
      "  (0, 115971)\t1\n",
      "  (0, 28006)\t1\n",
      "  (0, 91021)\t1\n",
      "  (0, 45921)\t1\n",
      "  (0, 47576)\t1\n",
      "  (0, 14326)\t1\n",
      "  (0, 52509)\t1\n"
     ]
    }
   ],
   "source": [
    "count_vect = CountVectorizer(stop_words=stops)\n",
    "x_train_vec = count_vect.fit_transform(x_train)\n",
    "\n",
    "print(x_train_vec[0])"
   ]
  },
  {
   "cell_type": "code",
   "execution_count": 19,
   "metadata": {},
   "outputs": [
    {
     "data": {
      "text/plain": [
       "'salvador'"
      ]
     },
     "execution_count": 19,
     "metadata": {},
     "output_type": "execute_result"
    }
   ],
   "source": [
    "count_vect.get_feature_names_out()[148958]"
   ]
  },
  {
   "cell_type": "code",
   "execution_count": 38,
   "metadata": {},
   "outputs": [
    {
     "name": "stdout",
     "output_type": "stream",
     "text": [
      "{\"tribunal justiça estado bahia poder judiciário salvador juizado cível defesa consumidor universo matutino projudi acm campus universidade salgado oliveira universo pituba salvador processo parte autora nailton lantyer cordeiro araujo parte atlantico fundo investimento direitos creditorios despacho vistos etc indefiro requerido pela parte demandante aguarde a sessão conciliação designada salvador de julho paulo alberto nunes chenaud juiz direito documento assinado eletronicamente\"}\n",
      "{\"tribunal justiça estado bahia poder judiciário salvador juizado cível defesa consumidor universo matutino projudi acm campus universidade salgado oliveira universo pituba salvador processo parte autora nailton lantyer cordeiro araujo parte atlantico fundo investimento direitos creditorios despacho vistos etc indefiro requerido pela parte demandante aguarde a sessão conciliação designada salvador de julho paulo alberto nunes chenaud juiz direito documento assinado eletronicamente\"}\n"
     ]
    }
   ],
   "source": [
    "from gpam_functions import remove_stop_words\n",
    "\n",
    "data = list(x_train)\n",
    "print(x_train[0])\n",
    "print(data[0])\n",
    "i = 0\n",
    "for item in data:\n",
    "  data[i] = remove_stop_words(item)\n",
    "  i += 1\n",
    "\n",
    "x_train = pd.Series(data)"
   ]
  },
  {
   "cell_type": "code",
   "execution_count": 44,
   "metadata": {},
   "outputs": [
    {
     "name": "stdout",
     "output_type": "stream",
     "text": [
      "{\"processo termo remessa tendo vista disposto portaria dje considerando decidido re remeto presentes autos origem brasília de julho luciana pires zavala secretária judiciária supremo tribunal federal lavrei este termo\"}\n",
      "{\"processo termo remessa tendo vista disposto portaria dje considerando decidido re remeto presentes autos origem brasília de julho luciana pires zavala secretária judiciária supremo tribunal federal lavrei este termo\"}\n"
     ]
    }
   ],
   "source": [
    "data_test = list(x_test)\n",
    "print(x_test[0])\n",
    "print(data_test[0])\n",
    "i = 0\n",
    "for item in data_test:\n",
    "  data_test[i] = remove_stop_words(item)\n",
    "  i += 1\n",
    "\n",
    "x_test = pd.Series(data_test)"
   ]
  },
  {
   "cell_type": "code",
   "execution_count": 45,
   "metadata": {},
   "outputs": [
    {
     "name": "stdout",
     "output_type": "stream",
     "text": [
      "0    {\"processo termo remessa tendo vista disposto ...\n",
      "1    {\"supremo tribunal federal ofício brasília  ou...\n",
      "2    {\"excelentíssimo senhor juiz presidente turma ...\n",
      "3    {\"advogados agravado vitor rodrigues moura oab...\n",
      "4    {\"eminentes ministros tempestividade publicaçã...\n",
      "dtype: object\n"
     ]
    }
   ],
   "source": [
    "print(x_test[:5])"
   ]
  },
  {
   "cell_type": "code",
   "execution_count": 40,
   "metadata": {},
   "outputs": [
    {
     "name": "stdout",
     "output_type": "stream",
     "text": [
      "0    {\"tribunal justiça  bahia  judiciário salvador...\n",
      "1    {\"excelentíssimo senhor doutor juiz direito ju...\n",
      "2    {\"razões recurso inominado recorrente atlantic...\n",
      "3    {\"empresa recorrente tornou credora  débitos n...\n",
      "4    {\"entretanto verdade  apelante tornou titular ...\n",
      "dtype: object\n"
     ]
    }
   ],
   "source": [
    "print(x_train[:5])"
   ]
  },
  {
   "cell_type": "code",
   "execution_count": 42,
   "metadata": {},
   "outputs": [
    {
     "name": "stdout",
     "output_type": "stream",
     "text": [
      "Fitting 5 folds for each of 8 candidates, totalling 40 fits\n",
      "[CV 1/5] END clf__alpha=1.0, vect__max_df=0.5, vect__ngram_range=(1, 1); accuracy: (train=0.899, test=0.899) f1_macro: (train=0.158, test=0.158) f1_micro: (train=0.899, test=0.899) f1_weighted: (train=0.851, test=0.851) total time=  21.7s\n",
      "[CV 2/5] END clf__alpha=1.0, vect__max_df=0.5, vect__ngram_range=(1, 1); accuracy: (train=0.899, test=0.899) f1_macro: (train=0.158, test=0.158) f1_micro: (train=0.899, test=0.899) f1_weighted: (train=0.851, test=0.851) total time=  22.5s\n",
      "[CV 3/5] END clf__alpha=1.0, vect__max_df=0.5, vect__ngram_range=(1, 1); accuracy: (train=0.899, test=0.899) f1_macro: (train=0.158, test=0.158) f1_micro: (train=0.899, test=0.899) f1_weighted: (train=0.851, test=0.851) total time=  22.1s\n",
      "[CV 4/5] END clf__alpha=1.0, vect__max_df=0.5, vect__ngram_range=(1, 1); accuracy: (train=0.899, test=0.899) f1_macro: (train=0.158, test=0.158) f1_micro: (train=0.899, test=0.899) f1_weighted: (train=0.851, test=0.851) total time=  20.2s\n",
      "[CV 5/5] END clf__alpha=1.0, vect__max_df=0.5, vect__ngram_range=(1, 1); accuracy: (train=0.899, test=0.899) f1_macro: (train=0.158, test=0.158) f1_micro: (train=0.899, test=0.899) f1_weighted: (train=0.851, test=0.851) total time=  20.2s\n",
      "[CV 1/5] END clf__alpha=1.0, vect__max_df=0.5, vect__ngram_range=(1, 2); accuracy: (train=0.899, test=0.899) f1_macro: (train=0.158, test=0.158) f1_micro: (train=0.899, test=0.899) f1_weighted: (train=0.851, test=0.851) total time=  47.3s\n",
      "[CV 2/5] END clf__alpha=1.0, vect__max_df=0.5, vect__ngram_range=(1, 2); accuracy: (train=0.899, test=0.899) f1_macro: (train=0.158, test=0.158) f1_micro: (train=0.899, test=0.899) f1_weighted: (train=0.851, test=0.851) total time=  46.0s\n",
      "[CV 3/5] END clf__alpha=1.0, vect__max_df=0.5, vect__ngram_range=(1, 2); accuracy: (train=0.899, test=0.899) f1_macro: (train=0.158, test=0.158) f1_micro: (train=0.899, test=0.899) f1_weighted: (train=0.851, test=0.851) total time=  46.5s\n",
      "[CV 4/5] END clf__alpha=1.0, vect__max_df=0.5, vect__ngram_range=(1, 2); accuracy: (train=0.899, test=0.899) f1_macro: (train=0.159, test=0.158) f1_micro: (train=0.899, test=0.899) f1_weighted: (train=0.851, test=0.851) total time=  51.6s\n",
      "[CV 5/5] END clf__alpha=1.0, vect__max_df=0.5, vect__ngram_range=(1, 2); accuracy: (train=0.899, test=0.899) f1_macro: (train=0.158, test=0.158) f1_micro: (train=0.899, test=0.899) f1_weighted: (train=0.851, test=0.851) total time=  51.4s\n",
      "[CV 1/5] END clf__alpha=1.0, vect__max_df=0.75, vect__ngram_range=(1, 1); accuracy: (train=0.899, test=0.899) f1_macro: (train=0.158, test=0.158) f1_micro: (train=0.899, test=0.899) f1_weighted: (train=0.851, test=0.851) total time=  19.7s\n",
      "[CV 2/5] END clf__alpha=1.0, vect__max_df=0.75, vect__ngram_range=(1, 1); accuracy: (train=0.899, test=0.899) f1_macro: (train=0.158, test=0.158) f1_micro: (train=0.899, test=0.899) f1_weighted: (train=0.851, test=0.851) total time=  19.9s\n",
      "[CV 3/5] END clf__alpha=1.0, vect__max_df=0.75, vect__ngram_range=(1, 1); accuracy: (train=0.899, test=0.899) f1_macro: (train=0.158, test=0.158) f1_micro: (train=0.899, test=0.899) f1_weighted: (train=0.851, test=0.851) total time=  20.4s\n",
      "[CV 4/5] END clf__alpha=1.0, vect__max_df=0.75, vect__ngram_range=(1, 1); accuracy: (train=0.899, test=0.899) f1_macro: (train=0.158, test=0.158) f1_micro: (train=0.899, test=0.899) f1_weighted: (train=0.851, test=0.851) total time=  19.3s\n",
      "[CV 5/5] END clf__alpha=1.0, vect__max_df=0.75, vect__ngram_range=(1, 1); accuracy: (train=0.899, test=0.899) f1_macro: (train=0.158, test=0.158) f1_micro: (train=0.899, test=0.899) f1_weighted: (train=0.851, test=0.851) total time=  20.6s\n",
      "[CV 1/5] END clf__alpha=1.0, vect__max_df=0.75, vect__ngram_range=(1, 2); accuracy: (train=0.899, test=0.899) f1_macro: (train=0.158, test=0.158) f1_micro: (train=0.899, test=0.899) f1_weighted: (train=0.851, test=0.851) total time=  49.5s\n",
      "[CV 2/5] END clf__alpha=1.0, vect__max_df=0.75, vect__ngram_range=(1, 2); accuracy: (train=0.899, test=0.899) f1_macro: (train=0.158, test=0.158) f1_micro: (train=0.899, test=0.899) f1_weighted: (train=0.851, test=0.851) total time=  46.6s\n",
      "[CV 3/5] END clf__alpha=1.0, vect__max_df=0.75, vect__ngram_range=(1, 2); accuracy: (train=0.899, test=0.899) f1_macro: (train=0.158, test=0.158) f1_micro: (train=0.899, test=0.899) f1_weighted: (train=0.851, test=0.851) total time=  45.6s\n",
      "[CV 4/5] END clf__alpha=1.0, vect__max_df=0.75, vect__ngram_range=(1, 2); accuracy: (train=0.899, test=0.899) f1_macro: (train=0.159, test=0.158) f1_micro: (train=0.899, test=0.899) f1_weighted: (train=0.851, test=0.851) total time=  44.5s\n",
      "[CV 5/5] END clf__alpha=1.0, vect__max_df=0.75, vect__ngram_range=(1, 2); accuracy: (train=0.899, test=0.899) f1_macro: (train=0.158, test=0.158) f1_micro: (train=0.899, test=0.899) f1_weighted: (train=0.851, test=0.851) total time=  48.5s\n",
      "[CV 1/5] END clf__alpha=0.01, vect__max_df=0.5, vect__ngram_range=(1, 1); accuracy: (train=0.933, test=0.924) f1_macro: (train=0.536, test=0.389) f1_micro: (train=0.933, test=0.924) f1_weighted: (train=0.919, test=0.901) total time=  20.7s\n",
      "[CV 2/5] END clf__alpha=0.01, vect__max_df=0.5, vect__ngram_range=(1, 1); accuracy: (train=0.926, test=0.945) f1_macro: (train=0.503, test=0.583) f1_micro: (train=0.926, test=0.945) f1_weighted: (train=0.907, test=0.939) total time=  19.7s\n",
      "[CV 3/5] END clf__alpha=0.01, vect__max_df=0.5, vect__ngram_range=(1, 1); accuracy: (train=0.930, test=0.928) f1_macro: (train=0.531, test=0.542) f1_micro: (train=0.930, test=0.928) f1_weighted: (train=0.915, test=0.912) total time=  21.1s\n",
      "[CV 4/5] END clf__alpha=0.01, vect__max_df=0.5, vect__ngram_range=(1, 1); accuracy: (train=0.940, test=0.897) f1_macro: (train=0.577, test=0.299) f1_micro: (train=0.940, test=0.897) f1_weighted: (train=0.929, test=0.857) total time=  19.7s\n",
      "[CV 5/5] END clf__alpha=0.01, vect__max_df=0.5, vect__ngram_range=(1, 1); accuracy: (train=0.937, test=0.897) f1_macro: (train=0.611, test=0.228) f1_micro: (train=0.937, test=0.897) f1_weighted: (train=0.925, test=0.855) total time=  21.5s\n",
      "[CV 1/5] END clf__alpha=0.01, vect__max_df=0.5, vect__ngram_range=(1, 2); accuracy: (train=0.944, test=0.928) f1_macro: (train=0.638, test=0.456) f1_micro: (train=0.944, test=0.928) f1_weighted: (train=0.935, test=0.909) total time=  46.4s\n",
      "[CV 2/5] END clf__alpha=0.01, vect__max_df=0.5, vect__ngram_range=(1, 2); accuracy: (train=0.938, test=0.955) f1_macro: (train=0.595, test=0.679) f1_micro: (train=0.938, test=0.955) f1_weighted: (train=0.927, test=0.953) total time=  49.0s\n",
      "[CV 3/5] END clf__alpha=0.01, vect__max_df=0.5, vect__ngram_range=(1, 2); accuracy: (train=0.942, test=0.917) f1_macro: (train=0.618, test=0.557) f1_micro: (train=0.942, test=0.917) f1_weighted: (train=0.932, test=0.912) total time=  48.9s\n",
      "[CV 4/5] END clf__alpha=0.01, vect__max_df=0.5, vect__ngram_range=(1, 2); accuracy: (train=0.949, test=0.898) f1_macro: (train=0.652, test=0.367) f1_micro: (train=0.949, test=0.898) f1_weighted: (train=0.941, test=0.862) total time=  50.9s\n",
      "[CV 5/5] END clf__alpha=0.01, vect__max_df=0.5, vect__ngram_range=(1, 2); accuracy: (train=0.947, test=0.900) f1_macro: (train=0.682, test=0.245) f1_micro: (train=0.947, test=0.900) f1_weighted: (train=0.939, test=0.861) total time=  48.9s\n",
      "[CV 1/5] END clf__alpha=0.01, vect__max_df=0.75, vect__ngram_range=(1, 1); accuracy: (train=0.933, test=0.923) f1_macro: (train=0.532, test=0.386) f1_micro: (train=0.933, test=0.923) f1_weighted: (train=0.918, test=0.900) total time=  20.7s\n",
      "[CV 2/5] END clf__alpha=0.01, vect__max_df=0.75, vect__ngram_range=(1, 1); accuracy: (train=0.926, test=0.943) f1_macro: (train=0.503, test=0.577) f1_micro: (train=0.926, test=0.943) f1_weighted: (train=0.907, test=0.937) total time=  20.5s\n",
      "[CV 3/5] END clf__alpha=0.01, vect__max_df=0.75, vect__ngram_range=(1, 1); accuracy: (train=0.930, test=0.928) f1_macro: (train=0.531, test=0.545) f1_micro: (train=0.930, test=0.928) f1_weighted: (train=0.915, test=0.912) total time=  19.7s\n",
      "[CV 4/5] END clf__alpha=0.01, vect__max_df=0.75, vect__ngram_range=(1, 1); accuracy: (train=0.940, test=0.897) f1_macro: (train=0.575, test=0.299) f1_micro: (train=0.940, test=0.897) f1_weighted: (train=0.929, test=0.857) total time=  20.8s\n",
      "[CV 5/5] END clf__alpha=0.01, vect__max_df=0.75, vect__ngram_range=(1, 1); accuracy: (train=0.937, test=0.897) f1_macro: (train=0.609, test=0.228) f1_micro: (train=0.937, test=0.897) f1_weighted: (train=0.925, test=0.855) total time=  20.4s\n",
      "[CV 1/5] END clf__alpha=0.01, vect__max_df=0.75, vect__ngram_range=(1, 2); accuracy: (train=0.944, test=0.928) f1_macro: (train=0.638, test=0.458) f1_micro: (train=0.944, test=0.928) f1_weighted: (train=0.935, test=0.909) total time=  50.9s\n",
      "[CV 2/5] END clf__alpha=0.01, vect__max_df=0.75, vect__ngram_range=(1, 2); accuracy: (train=0.938, test=0.954) f1_macro: (train=0.596, test=0.678) f1_micro: (train=0.938, test=0.954) f1_weighted: (train=0.927, test=0.953) total time=  50.8s\n",
      "[CV 3/5] END clf__alpha=0.01, vect__max_df=0.75, vect__ngram_range=(1, 2); accuracy: (train=0.941, test=0.917) f1_macro: (train=0.615, test=0.558) f1_micro: (train=0.941, test=0.917) f1_weighted: (train=0.931, test=0.912) total time=  52.4s\n",
      "[CV 4/5] END clf__alpha=0.01, vect__max_df=0.75, vect__ngram_range=(1, 2); accuracy: (train=0.949, test=0.897) f1_macro: (train=0.651, test=0.371) f1_micro: (train=0.949, test=0.897) f1_weighted: (train=0.941, test=0.863) total time=  50.6s\n",
      "[CV 5/5] END clf__alpha=0.01, vect__max_df=0.75, vect__ngram_range=(1, 2); accuracy: (train=0.947, test=0.900) f1_macro: (train=0.685, test=0.248) f1_micro: (train=0.947, test=0.900) f1_weighted: (train=0.939, test=0.861) total time=  48.8s\n",
      "Best parameters: {'clf__alpha': 0.01, 'vect__max_df': 0.5, 'vect__ngram_range': (1, 2)}\n",
      "Best score: 0.9196000226319553\n"
     ]
    }
   ],
   "source": [
    "pipeline = Pipeline([\n",
    "  ('vect', CountVectorizer()),\n",
    "  ('clf', SGDClassifier()),\n",
    "])\n",
    "\n",
    "parameters = {\n",
    "  'vect__max_df': ([0.5, 0.75]),\n",
    "  'vect__ngram_range': ([(1, 1), (1, 2)]), # unigrams or bigrams\n",
    "  'clf__alpha': ([1.0, 0.01]),\n",
    "}\n",
    "\n",
    "scoring = {\n",
    "  'accuracy',\n",
    "  'f1_micro',\n",
    "  'f1_macro',\n",
    "  'f1_weighted'\n",
    "}\n",
    "\n",
    "grid_search = GridSearchCV(estimator=pipeline, param_grid=parameters, n_jobs=None, verbose=3, return_train_score=True, scoring=scoring, refit='f1_micro')\n",
    "\n",
    "grid_search.fit(x_train, y_train)\n",
    "\n",
    "print('Best parameters: {}'.format(grid_search.best_params_))\n",
    "print('Best score: {}'.format(grid_search.best_score_))"
   ]
  },
  {
   "cell_type": "code",
   "execution_count": 46,
   "metadata": {},
   "outputs": [
    {
     "name": "stdout",
     "output_type": "stream",
     "text": [
      "F1 Score (micro): 0.9373364319661662\n"
     ]
    }
   ],
   "source": [
    "best_estimator = grid_search.best_estimator_\n",
    "\n",
    "print('F1 Score (micro): {}'.format(f1_score(y_test, best_estimator.predict(x_test), average='micro')))"
   ]
  },
  {
   "cell_type": "code",
   "execution_count": 47,
   "metadata": {},
   "outputs": [
    {
     "name": "stdout",
     "output_type": "stream",
     "text": [
      "Fitting 5 folds for each of 8 candidates, totalling 40 fits\n",
      "[CV 1/5] END clf__alpha=1.0, vect__max_df=0.5, vect__ngram_range=(1, 1); accuracy: (train=0.893, test=0.898) f1_macro: (train=0.176, test=0.168) f1_micro: (train=0.893, test=0.898) f1_weighted: (train=0.854, test=0.854) total time=  16.0s\n",
      "[CV 2/5] END clf__alpha=1.0, vect__max_df=0.5, vect__ngram_range=(1, 1); accuracy: (train=0.891, test=0.897) f1_macro: (train=0.165, test=0.170) f1_micro: (train=0.891, test=0.897) f1_weighted: (train=0.850, test=0.855) total time=  19.1s\n",
      "[CV 3/5] END clf__alpha=1.0, vect__max_df=0.5, vect__ngram_range=(1, 1); accuracy: (train=0.892, test=0.897) f1_macro: (train=0.171, test=0.166) f1_micro: (train=0.892, test=0.897) f1_weighted: (train=0.852, test=0.853) total time=  19.3s\n",
      "[CV 4/5] END clf__alpha=1.0, vect__max_df=0.5, vect__ngram_range=(1, 1); accuracy: (train=0.894, test=0.898) f1_macro: (train=0.183, test=0.159) f1_micro: (train=0.894, test=0.898) f1_weighted: (train=0.858, test=0.851) total time=  20.4s\n",
      "[CV 5/5] END clf__alpha=1.0, vect__max_df=0.5, vect__ngram_range=(1, 1); accuracy: (train=0.896, test=0.896) f1_macro: (train=0.182, test=0.158) f1_micro: (train=0.896, test=0.896) f1_weighted: (train=0.859, test=0.850) total time=  18.8s\n",
      "[CV 1/5] END clf__alpha=1.0, vect__max_df=0.5, vect__ngram_range=(1, 2); accuracy: (train=0.905, test=0.905) f1_macro: (train=0.198, test=0.189) f1_micro: (train=0.905, test=0.905) f1_weighted: (train=0.869, test=0.866) total time=  43.8s\n",
      "[CV 2/5] END clf__alpha=1.0, vect__max_df=0.5, vect__ngram_range=(1, 2); accuracy: (train=0.900, test=0.906) f1_macro: (train=0.177, test=0.202) f1_micro: (train=0.900, test=0.906) f1_weighted: (train=0.859, test=0.871) total time=  39.9s\n",
      "[CV 3/5] END clf__alpha=1.0, vect__max_df=0.5, vect__ngram_range=(1, 2); accuracy: (train=0.904, test=0.905) f1_macro: (train=0.195, test=0.188) f1_micro: (train=0.904, test=0.905) f1_weighted: (train=0.868, test=0.865) total time=  40.1s\n",
      "[CV 4/5] END clf__alpha=1.0, vect__max_df=0.5, vect__ngram_range=(1, 2); accuracy: (train=0.909, test=0.899) f1_macro: (train=0.215, test=0.158) f1_micro: (train=0.909, test=0.899) f1_weighted: (train=0.877, test=0.851) total time=  39.9s\n",
      "[CV 5/5] END clf__alpha=1.0, vect__max_df=0.5, vect__ngram_range=(1, 2); accuracy: (train=0.909, test=0.899) f1_macro: (train=0.214, test=0.158) f1_micro: (train=0.909, test=0.899) f1_weighted: (train=0.877, test=0.851) total time=  38.9s\n",
      "[CV 1/5] END clf__alpha=1.0, vect__max_df=0.75, vect__ngram_range=(1, 1); accuracy: (train=0.893, test=0.898) f1_macro: (train=0.176, test=0.168) f1_micro: (train=0.893, test=0.898) f1_weighted: (train=0.854, test=0.854) total time=  17.9s\n",
      "[CV 2/5] END clf__alpha=1.0, vect__max_df=0.75, vect__ngram_range=(1, 1); accuracy: (train=0.891, test=0.897) f1_macro: (train=0.166, test=0.173) f1_micro: (train=0.891, test=0.897) f1_weighted: (train=0.850, test=0.856) total time=  17.7s\n",
      "[CV 3/5] END clf__alpha=1.0, vect__max_df=0.75, vect__ngram_range=(1, 1); accuracy: (train=0.892, test=0.897) f1_macro: (train=0.171, test=0.166) f1_micro: (train=0.892, test=0.897) f1_weighted: (train=0.852, test=0.853) total time=  18.6s\n",
      "[CV 4/5] END clf__alpha=1.0, vect__max_df=0.75, vect__ngram_range=(1, 1); accuracy: (train=0.894, test=0.898) f1_macro: (train=0.183, test=0.159) f1_micro: (train=0.894, test=0.898) f1_weighted: (train=0.858, test=0.851) total time=  17.8s\n",
      "[CV 5/5] END clf__alpha=1.0, vect__max_df=0.75, vect__ngram_range=(1, 1); accuracy: (train=0.896, test=0.896) f1_macro: (train=0.182, test=0.158) f1_micro: (train=0.896, test=0.896) f1_weighted: (train=0.859, test=0.850) total time=  17.4s\n",
      "[CV 1/5] END clf__alpha=1.0, vect__max_df=0.75, vect__ngram_range=(1, 2); accuracy: (train=0.905, test=0.905) f1_macro: (train=0.198, test=0.189) f1_micro: (train=0.905, test=0.905) f1_weighted: (train=0.869, test=0.866) total time=  38.3s\n",
      "[CV 2/5] END clf__alpha=1.0, vect__max_df=0.75, vect__ngram_range=(1, 2); accuracy: (train=0.900, test=0.906) f1_macro: (train=0.177, test=0.202) f1_micro: (train=0.900, test=0.906) f1_weighted: (train=0.859, test=0.871) total time=  39.7s\n",
      "[CV 3/5] END clf__alpha=1.0, vect__max_df=0.75, vect__ngram_range=(1, 2); accuracy: (train=0.904, test=0.905) f1_macro: (train=0.195, test=0.188) f1_micro: (train=0.904, test=0.905) f1_weighted: (train=0.867, test=0.865) total time=  39.4s\n",
      "[CV 4/5] END clf__alpha=1.0, vect__max_df=0.75, vect__ngram_range=(1, 2); accuracy: (train=0.909, test=0.899) f1_macro: (train=0.214, test=0.158) f1_micro: (train=0.909, test=0.899) f1_weighted: (train=0.877, test=0.851) total time=  40.7s\n",
      "[CV 5/5] END clf__alpha=1.0, vect__max_df=0.75, vect__ngram_range=(1, 2); accuracy: (train=0.909, test=0.899) f1_macro: (train=0.214, test=0.158) f1_micro: (train=0.909, test=0.899) f1_weighted: (train=0.877, test=0.851) total time=  38.7s\n",
      "[CV 1/5] END clf__alpha=0.01, vect__max_df=0.5, vect__ngram_range=(1, 1); accuracy: (train=0.907, test=0.913) f1_macro: (train=0.633, test=0.557) f1_micro: (train=0.907, test=0.913) f1_weighted: (train=0.916, test=0.911) total time=  18.6s\n",
      "[CV 2/5] END clf__alpha=0.01, vect__max_df=0.5, vect__ngram_range=(1, 1); accuracy: (train=0.894, test=0.838) f1_macro: (train=0.617, test=0.539) f1_micro: (train=0.894, test=0.838) f1_weighted: (train=0.907, test=0.864) total time=  17.9s\n",
      "[CV 3/5] END clf__alpha=0.01, vect__max_df=0.5, vect__ngram_range=(1, 1); accuracy: (train=0.903, test=0.863) f1_macro: (train=0.626, test=0.549) f1_micro: (train=0.903, test=0.863) f1_weighted: (train=0.914, test=0.879) total time=  17.8s\n",
      "[CV 4/5] END clf__alpha=0.01, vect__max_df=0.5, vect__ngram_range=(1, 1); accuracy: (train=0.916, test=0.852) f1_macro: (train=0.654, test=0.470) f1_micro: (train=0.916, test=0.852) f1_weighted: (train=0.924, test=0.857) total time=  18.3s\n",
      "[CV 5/5] END clf__alpha=0.01, vect__max_df=0.5, vect__ngram_range=(1, 1); accuracy: (train=0.906, test=0.859) f1_macro: (train=0.654, test=0.328) f1_micro: (train=0.906, test=0.859) f1_weighted: (train=0.917, test=0.851) total time=  18.7s\n",
      "[CV 1/5] END clf__alpha=0.01, vect__max_df=0.5, vect__ngram_range=(1, 2); accuracy: (train=0.901, test=0.896) f1_macro: (train=0.634, test=0.560) f1_micro: (train=0.901, test=0.896) f1_weighted: (train=0.915, test=0.907) total time=  42.4s\n",
      "[CV 2/5] END clf__alpha=0.01, vect__max_df=0.5, vect__ngram_range=(1, 2); accuracy: (train=0.899, test=0.860) f1_macro: (train=0.638, test=0.573) f1_micro: (train=0.899, test=0.860) f1_weighted: (train=0.914, test=0.881) total time=  44.0s\n",
      "[CV 3/5] END clf__alpha=0.01, vect__max_df=0.5, vect__ngram_range=(1, 2); accuracy: (train=0.902, test=0.842) f1_macro: (train=0.637, test=0.515) f1_micro: (train=0.902, test=0.842) f1_weighted: (train=0.917, test=0.869) total time=  42.3s\n",
      "[CV 4/5] END clf__alpha=0.01, vect__max_df=0.5, vect__ngram_range=(1, 2); accuracy: (train=0.914, test=0.840) f1_macro: (train=0.666, test=0.489) f1_micro: (train=0.914, test=0.840) f1_weighted: (train=0.926, test=0.857) total time=  42.4s\n",
      "[CV 5/5] END clf__alpha=0.01, vect__max_df=0.5, vect__ngram_range=(1, 2); accuracy: (train=0.903, test=0.855) f1_macro: (train=0.648, test=0.377) f1_micro: (train=0.903, test=0.855) f1_weighted: (train=0.917, test=0.855) total time=  43.4s\n",
      "[CV 1/5] END clf__alpha=0.01, vect__max_df=0.75, vect__ngram_range=(1, 1); accuracy: (train=0.906, test=0.913) f1_macro: (train=0.633, test=0.557) f1_micro: (train=0.906, test=0.913) f1_weighted: (train=0.916, test=0.911) total time=  18.1s\n",
      "[CV 2/5] END clf__alpha=0.01, vect__max_df=0.75, vect__ngram_range=(1, 1); accuracy: (train=0.894, test=0.839) f1_macro: (train=0.616, test=0.539) f1_micro: (train=0.894, test=0.839) f1_weighted: (train=0.907, test=0.864) total time=  17.7s\n",
      "[CV 3/5] END clf__alpha=0.01, vect__max_df=0.75, vect__ngram_range=(1, 1); accuracy: (train=0.902, test=0.863) f1_macro: (train=0.625, test=0.549) f1_micro: (train=0.902, test=0.863) f1_weighted: (train=0.913, test=0.879) total time=  17.2s\n",
      "[CV 4/5] END clf__alpha=0.01, vect__max_df=0.75, vect__ngram_range=(1, 1); accuracy: (train=0.916, test=0.851) f1_macro: (train=0.653, test=0.468) f1_micro: (train=0.916, test=0.851) f1_weighted: (train=0.924, test=0.857) total time=  18.7s\n",
      "[CV 5/5] END clf__alpha=0.01, vect__max_df=0.75, vect__ngram_range=(1, 1); accuracy: (train=0.906, test=0.859) f1_macro: (train=0.654, test=0.328) f1_micro: (train=0.906, test=0.859) f1_weighted: (train=0.917, test=0.851) total time=  17.9s\n",
      "[CV 1/5] END clf__alpha=0.01, vect__max_df=0.75, vect__ngram_range=(1, 2); accuracy: (train=0.901, test=0.897) f1_macro: (train=0.634, test=0.560) f1_micro: (train=0.901, test=0.897) f1_weighted: (train=0.915, test=0.907) total time=  37.2s\n",
      "[CV 2/5] END clf__alpha=0.01, vect__max_df=0.75, vect__ngram_range=(1, 2); accuracy: (train=0.899, test=0.860) f1_macro: (train=0.638, test=0.573) f1_micro: (train=0.899, test=0.860) f1_weighted: (train=0.914, test=0.881) total time=  38.9s\n",
      "[CV 3/5] END clf__alpha=0.01, vect__max_df=0.75, vect__ngram_range=(1, 2); accuracy: (train=0.902, test=0.842) f1_macro: (train=0.637, test=0.515) f1_micro: (train=0.902, test=0.842) f1_weighted: (train=0.917, test=0.869) total time=  38.8s\n",
      "[CV 4/5] END clf__alpha=0.01, vect__max_df=0.75, vect__ngram_range=(1, 2); accuracy: (train=0.914, test=0.840) f1_macro: (train=0.666, test=0.489) f1_micro: (train=0.914, test=0.840) f1_weighted: (train=0.926, test=0.857) total time=  42.9s\n",
      "[CV 5/5] END clf__alpha=0.01, vect__max_df=0.75, vect__ngram_range=(1, 2); accuracy: (train=0.902, test=0.855) f1_macro: (train=0.648, test=0.377) f1_micro: (train=0.902, test=0.855) f1_weighted: (train=0.917, test=0.855) total time=  43.0s\n",
      "Best parameters: {'clf__alpha': 1.0, 'vect__max_df': 0.75, 'vect__ngram_range': (1, 2)}\n",
      "Best score: 0.9028260455019522\n"
     ]
    }
   ],
   "source": [
    "pipeline = Pipeline([\n",
    "  ('vect', TfidfVectorizer()),\n",
    "  ('clf', MultinomialNB()),\n",
    "])\n",
    "\n",
    "parameters = {\n",
    "  'vect__max_df': ([0.5, 0.75]),\n",
    "  'vect__ngram_range': ([(1, 1), (1, 2)]), # unigrams or bigrams\n",
    "  'clf__alpha': ([1.0, 0.01]),\n",
    "}\n",
    "\n",
    "scoring = {\n",
    "  'accuracy',\n",
    "  'f1_micro',\n",
    "  'f1_macro',\n",
    "  'f1_weighted'\n",
    "}\n",
    "\n",
    "grid_search = GridSearchCV(estimator=pipeline, param_grid=parameters, n_jobs=None, verbose=3, return_train_score=True, scoring=scoring, refit='f1_micro')\n",
    "\n",
    "grid_search.fit(x_train, y_train)\n",
    "\n",
    "print('Best parameters: {}'.format(grid_search.best_params_))\n",
    "print('Best score: {}'.format(grid_search.best_score_))"
   ]
  },
  {
   "cell_type": "code",
   "execution_count": 48,
   "metadata": {},
   "outputs": [
    {
     "name": "stdout",
     "output_type": "stream",
     "text": [
      "F1 Score (micro): 0.9055754454284697\n"
     ]
    }
   ],
   "source": [
    "best_estimator = grid_search.best_estimator_\n",
    "\n",
    "print('F1 Score (micro): {}'.format(f1_score(y_test, best_estimator.predict(x_test), average='micro')))"
   ]
  },
  {
   "cell_type": "code",
   "execution_count": 49,
   "metadata": {},
   "outputs": [
    {
     "name": "stdout",
     "output_type": "stream",
     "text": [
      "Fitting 5 folds for each of 8 candidates, totalling 40 fits\n",
      "[CV 1/5] END clf__alpha=1.0, vect__max_df=0.5, vect__ngram_range=(1, 1); accuracy: (train=0.810, test=0.828) f1_macro: (train=0.483, test=0.360) f1_micro: (train=0.810, test=0.828) f1_weighted: (train=0.844, test=0.855) total time=  16.6s\n",
      "[CV 2/5] END clf__alpha=1.0, vect__max_df=0.5, vect__ngram_range=(1, 1); accuracy: (train=0.789, test=0.693) f1_macro: (train=0.491, test=0.434) f1_micro: (train=0.789, test=0.693) f1_weighted: (train=0.830, test=0.759) total time=  16.9s\n",
      "[CV 3/5] END clf__alpha=1.0, vect__max_df=0.5, vect__ngram_range=(1, 1); accuracy: (train=0.771, test=0.703) f1_macro: (train=0.465, test=0.432) f1_micro: (train=0.771, test=0.703) f1_weighted: (train=0.817, test=0.766) total time=  17.2s\n",
      "[CV 4/5] END clf__alpha=1.0, vect__max_df=0.5, vect__ngram_range=(1, 1); accuracy: (train=0.801, test=0.761) f1_macro: (train=0.478, test=0.427) f1_micro: (train=0.801, test=0.761) f1_weighted: (train=0.838, test=0.802) total time=  17.1s\n",
      "[CV 5/5] END clf__alpha=1.0, vect__max_df=0.5, vect__ngram_range=(1, 1); accuracy: (train=0.796, test=0.712) f1_macro: (train=0.511, test=0.268) f1_micro: (train=0.796, test=0.712) f1_weighted: (train=0.835, test=0.768) total time=  17.2s\n",
      "[CV 1/5] END clf__alpha=1.0, vect__max_df=0.5, vect__ngram_range=(1, 2); accuracy: (train=0.899, test=0.907) f1_macro: (train=0.596, test=0.406) f1_micro: (train=0.899, test=0.907) f1_weighted: (train=0.910, test=0.905) total time=  35.7s\n",
      "[CV 2/5] END clf__alpha=1.0, vect__max_df=0.5, vect__ngram_range=(1, 2); accuracy: (train=0.886, test=0.853) f1_macro: (train=0.593, test=0.530) f1_micro: (train=0.886, test=0.853) f1_weighted: (train=0.900, test=0.873) total time=  36.8s\n",
      "[CV 3/5] END clf__alpha=1.0, vect__max_df=0.5, vect__ngram_range=(1, 2); accuracy: (train=0.890, test=0.853) f1_macro: (train=0.586, test=0.533) f1_micro: (train=0.890, test=0.853) f1_weighted: (train=0.904, test=0.872) total time=  36.8s\n",
      "[CV 4/5] END clf__alpha=1.0, vect__max_df=0.5, vect__ngram_range=(1, 2); accuracy: (train=0.903, test=0.858) f1_macro: (train=0.599, test=0.426) f1_micro: (train=0.903, test=0.858) f1_weighted: (train=0.914, test=0.859) total time=  39.2s\n",
      "[CV 5/5] END clf__alpha=1.0, vect__max_df=0.5, vect__ngram_range=(1, 2); accuracy: (train=0.889, test=0.847) f1_macro: (train=0.619, test=0.283) f1_micro: (train=0.889, test=0.847) f1_weighted: (train=0.904, test=0.849) total time=  39.7s\n",
      "[CV 1/5] END clf__alpha=1.0, vect__max_df=0.75, vect__ngram_range=(1, 1); accuracy: (train=0.810, test=0.828) f1_macro: (train=0.479, test=0.350) f1_micro: (train=0.810, test=0.828) f1_weighted: (train=0.844, test=0.854) total time=  17.4s\n",
      "[CV 2/5] END clf__alpha=1.0, vect__max_df=0.75, vect__ngram_range=(1, 1); accuracy: (train=0.789, test=0.692) f1_macro: (train=0.489, test=0.435) f1_micro: (train=0.789, test=0.692) f1_weighted: (train=0.830, test=0.758) total time=  17.1s\n",
      "[CV 3/5] END clf__alpha=1.0, vect__max_df=0.75, vect__ngram_range=(1, 1); accuracy: (train=0.770, test=0.703) f1_macro: (train=0.460, test=0.434) f1_micro: (train=0.770, test=0.703) f1_weighted: (train=0.816, test=0.766) total time=  17.5s\n",
      "[CV 4/5] END clf__alpha=1.0, vect__max_df=0.75, vect__ngram_range=(1, 1); accuracy: (train=0.800, test=0.760) f1_macro: (train=0.477, test=0.428) f1_micro: (train=0.800, test=0.760) f1_weighted: (train=0.838, test=0.802) total time=  17.4s\n",
      "[CV 5/5] END clf__alpha=1.0, vect__max_df=0.75, vect__ngram_range=(1, 1); accuracy: (train=0.796, test=0.712) f1_macro: (train=0.509, test=0.270) f1_micro: (train=0.796, test=0.712) f1_weighted: (train=0.835, test=0.768) total time=  17.2s\n",
      "[CV 1/5] END clf__alpha=1.0, vect__max_df=0.75, vect__ngram_range=(1, 2); accuracy: (train=0.899, test=0.907) f1_macro: (train=0.595, test=0.406) f1_micro: (train=0.899, test=0.907) f1_weighted: (train=0.910, test=0.905) total time=  40.5s\n",
      "[CV 2/5] END clf__alpha=1.0, vect__max_df=0.75, vect__ngram_range=(1, 2); accuracy: (train=0.886, test=0.853) f1_macro: (train=0.591, test=0.526) f1_micro: (train=0.886, test=0.853) f1_weighted: (train=0.900, test=0.873) total time=  40.8s\n",
      "[CV 3/5] END clf__alpha=1.0, vect__max_df=0.75, vect__ngram_range=(1, 2); accuracy: (train=0.890, test=0.853) f1_macro: (train=0.582, test=0.540) f1_micro: (train=0.890, test=0.853) f1_weighted: (train=0.904, test=0.872) total time=  42.9s\n",
      "[CV 4/5] END clf__alpha=1.0, vect__max_df=0.75, vect__ngram_range=(1, 2); accuracy: (train=0.903, test=0.858) f1_macro: (train=0.598, test=0.427) f1_micro: (train=0.903, test=0.858) f1_weighted: (train=0.914, test=0.859) total time=  40.7s\n",
      "[CV 5/5] END clf__alpha=1.0, vect__max_df=0.75, vect__ngram_range=(1, 2); accuracy: (train=0.889, test=0.846) f1_macro: (train=0.616, test=0.283) f1_micro: (train=0.889, test=0.846) f1_weighted: (train=0.904, test=0.849) total time=  39.3s\n",
      "[CV 1/5] END clf__alpha=0.01, vect__max_df=0.5, vect__ngram_range=(1, 1); accuracy: (train=0.791, test=0.805) f1_macro: (train=0.540, test=0.457) f1_micro: (train=0.791, test=0.805) f1_weighted: (train=0.833, test=0.846) total time=  17.3s\n",
      "[CV 2/5] END clf__alpha=0.01, vect__max_df=0.5, vect__ngram_range=(1, 1); accuracy: (train=0.757, test=0.670) f1_macro: (train=0.480, test=0.438) f1_micro: (train=0.757, test=0.670) f1_weighted: (train=0.808, test=0.739) total time=  16.9s\n",
      "[CV 3/5] END clf__alpha=0.01, vect__max_df=0.5, vect__ngram_range=(1, 1); accuracy: (train=0.752, test=0.649) f1_macro: (train=0.487, test=0.362) f1_micro: (train=0.752, test=0.649) f1_weighted: (train=0.804, test=0.730) total time=  17.0s\n",
      "[CV 4/5] END clf__alpha=0.01, vect__max_df=0.5, vect__ngram_range=(1, 1); accuracy: (train=0.776, test=0.689) f1_macro: (train=0.492, test=0.358) f1_micro: (train=0.776, test=0.689) f1_weighted: (train=0.823, test=0.759) total time=  17.2s\n",
      "[CV 5/5] END clf__alpha=0.01, vect__max_df=0.5, vect__ngram_range=(1, 1); accuracy: (train=0.781, test=0.733) f1_macro: (train=0.503, test=0.367) f1_micro: (train=0.781, test=0.733) f1_weighted: (train=0.826, test=0.787) total time=  17.0s\n",
      "[CV 1/5] END clf__alpha=0.01, vect__max_df=0.5, vect__ngram_range=(1, 2); accuracy: (train=0.897, test=0.885) f1_macro: (train=0.656, test=0.539) f1_micro: (train=0.897, test=0.885) f1_weighted: (train=0.912, test=0.902) total time=  41.1s\n",
      "[CV 2/5] END clf__alpha=0.01, vect__max_df=0.5, vect__ngram_range=(1, 2); accuracy: (train=0.891, test=0.834) f1_macro: (train=0.635, test=0.532) f1_micro: (train=0.891, test=0.834) f1_weighted: (train=0.908, test=0.863) total time=  42.0s\n",
      "[CV 3/5] END clf__alpha=0.01, vect__max_df=0.5, vect__ngram_range=(1, 2); accuracy: (train=0.896, test=0.800) f1_macro: (train=0.630, test=0.460) f1_micro: (train=0.896, test=0.800) f1_weighted: (train=0.912, test=0.843) total time=  36.1s\n",
      "[CV 4/5] END clf__alpha=0.01, vect__max_df=0.5, vect__ngram_range=(1, 2); accuracy: (train=0.906, test=0.810) f1_macro: (train=0.646, test=0.447) f1_micro: (train=0.906, test=0.810) f1_weighted: (train=0.920, test=0.840) total time=  39.1s\n",
      "[CV 5/5] END clf__alpha=0.01, vect__max_df=0.5, vect__ngram_range=(1, 2); accuracy: (train=0.894, test=0.841) f1_macro: (train=0.641, test=0.390) f1_micro: (train=0.894, test=0.841) f1_weighted: (train=0.910, test=0.850) total time=  36.8s\n",
      "[CV 1/5] END clf__alpha=0.01, vect__max_df=0.75, vect__ngram_range=(1, 1); accuracy: (train=0.791, test=0.805) f1_macro: (train=0.539, test=0.458) f1_micro: (train=0.791, test=0.805) f1_weighted: (train=0.833, test=0.846) total time=  17.7s\n",
      "[CV 2/5] END clf__alpha=0.01, vect__max_df=0.75, vect__ngram_range=(1, 1); accuracy: (train=0.757, test=0.670) f1_macro: (train=0.480, test=0.439) f1_micro: (train=0.757, test=0.670) f1_weighted: (train=0.808, test=0.739) total time=  17.2s\n",
      "[CV 3/5] END clf__alpha=0.01, vect__max_df=0.75, vect__ngram_range=(1, 1); accuracy: (train=0.752, test=0.649) f1_macro: (train=0.487, test=0.361) f1_micro: (train=0.752, test=0.649) f1_weighted: (train=0.804, test=0.730) total time=  17.8s\n",
      "[CV 4/5] END clf__alpha=0.01, vect__max_df=0.75, vect__ngram_range=(1, 1); accuracy: (train=0.776, test=0.688) f1_macro: (train=0.492, test=0.356) f1_micro: (train=0.776, test=0.688) f1_weighted: (train=0.823, test=0.759) total time=  17.8s\n",
      "[CV 5/5] END clf__alpha=0.01, vect__max_df=0.75, vect__ngram_range=(1, 1); accuracy: (train=0.781, test=0.733) f1_macro: (train=0.503, test=0.367) f1_micro: (train=0.781, test=0.733) f1_weighted: (train=0.826, test=0.787) total time=  17.8s\n",
      "[CV 1/5] END clf__alpha=0.01, vect__max_df=0.75, vect__ngram_range=(1, 2); accuracy: (train=0.897, test=0.885) f1_macro: (train=0.656, test=0.539) f1_micro: (train=0.897, test=0.885) f1_weighted: (train=0.912, test=0.901) total time=  36.4s\n",
      "[CV 2/5] END clf__alpha=0.01, vect__max_df=0.75, vect__ngram_range=(1, 2); accuracy: (train=0.891, test=0.834) f1_macro: (train=0.635, test=0.532) f1_micro: (train=0.891, test=0.834) f1_weighted: (train=0.908, test=0.863) total time=  37.5s\n",
      "[CV 3/5] END clf__alpha=0.01, vect__max_df=0.75, vect__ngram_range=(1, 2); accuracy: (train=0.896, test=0.800) f1_macro: (train=0.630, test=0.460) f1_micro: (train=0.896, test=0.800) f1_weighted: (train=0.912, test=0.843) total time=  37.0s\n",
      "[CV 4/5] END clf__alpha=0.01, vect__max_df=0.75, vect__ngram_range=(1, 2); accuracy: (train=0.906, test=0.810) f1_macro: (train=0.647, test=0.446) f1_micro: (train=0.906, test=0.810) f1_weighted: (train=0.920, test=0.840) total time=  38.4s\n",
      "[CV 5/5] END clf__alpha=0.01, vect__max_df=0.75, vect__ngram_range=(1, 2); accuracy: (train=0.894, test=0.841) f1_macro: (train=0.642, test=0.390) f1_micro: (train=0.894, test=0.841) f1_weighted: (train=0.910, test=0.850) total time=  39.2s\n",
      "Best parameters: {'clf__alpha': 1.0, 'vect__max_df': 0.75, 'vect__ngram_range': (1, 2)}\n",
      "Best score: 0.8633531509354568\n"
     ]
    }
   ],
   "source": [
    "pipeline = Pipeline([\n",
    "  ('vect', CountVectorizer()),\n",
    "  ('clf', MultinomialNB()),\n",
    "])\n",
    "\n",
    "parameters = {\n",
    "  'vect__max_df': ([0.5, 0.75]),\n",
    "  'vect__ngram_range': ([(1, 1), (1, 2)]), # unigrams or bigrams\n",
    "  'clf__alpha': ([1.0, 0.01]),\n",
    "}\n",
    "\n",
    "scoring = {\n",
    "  'accuracy',\n",
    "  'f1_micro',\n",
    "  'f1_macro',\n",
    "  'f1_weighted'\n",
    "}\n",
    "\n",
    "grid_search = GridSearchCV(estimator=pipeline, param_grid=parameters, n_jobs=None, verbose=3, return_train_score=True, scoring=scoring, refit='f1_micro')\n",
    "\n",
    "grid_search.fit(x_train, y_train)\n",
    "\n",
    "print('Best parameters: {}'.format(grid_search.best_params_))\n",
    "print('Best score: {}'.format(grid_search.best_score_))"
   ]
  },
  {
   "cell_type": "code",
   "execution_count": 50,
   "metadata": {},
   "outputs": [
    {
     "name": "stdout",
     "output_type": "stream",
     "text": [
      "F1 Score (micro): 0.9002889265749638\n"
     ]
    }
   ],
   "source": [
    "best_estimator = grid_search.best_estimator_\n",
    "\n",
    "print('F1 Score (micro): {}'.format(f1_score(y_test, best_estimator.predict(x_test), average='micro')))"
   ]
  },
  {
   "cell_type": "code",
   "execution_count": 51,
   "metadata": {},
   "outputs": [
    {
     "name": "stdout",
     "output_type": "stream",
     "text": [
      "Fitting 5 folds for each of 8 candidates, totalling 40 fits\n",
      "[CV 1/5] END clf__alpha=1.0, vect__max_df=0.5, vect__ngram_range=(1, 1); accuracy: (train=0.899, test=0.899) f1_macro: (train=0.158, test=0.158) f1_micro: (train=0.899, test=0.899) f1_weighted: (train=0.851, test=0.851) total time=  24.3s\n",
      "[CV 2/5] END clf__alpha=1.0, vect__max_df=0.5, vect__ngram_range=(1, 1); accuracy: (train=0.899, test=0.899) f1_macro: (train=0.158, test=0.158) f1_micro: (train=0.899, test=0.899) f1_weighted: (train=0.851, test=0.851) total time=  23.3s\n",
      "[CV 3/5] END clf__alpha=1.0, vect__max_df=0.5, vect__ngram_range=(1, 1); accuracy: (train=0.899, test=0.899) f1_macro: (train=0.158, test=0.158) f1_micro: (train=0.899, test=0.899) f1_weighted: (train=0.851, test=0.851) total time=  23.6s\n",
      "[CV 4/5] END clf__alpha=1.0, vect__max_df=0.5, vect__ngram_range=(1, 1); accuracy: (train=0.899, test=0.899) f1_macro: (train=0.158, test=0.158) f1_micro: (train=0.899, test=0.899) f1_weighted: (train=0.851, test=0.851) total time=  23.3s\n",
      "[CV 5/5] END clf__alpha=1.0, vect__max_df=0.5, vect__ngram_range=(1, 1); accuracy: (train=0.899, test=0.899) f1_macro: (train=0.158, test=0.158) f1_micro: (train=0.899, test=0.899) f1_weighted: (train=0.851, test=0.851) total time=  23.5s\n",
      "[CV 1/5] END clf__alpha=1.0, vect__max_df=0.5, vect__ngram_range=(1, 2); accuracy: (train=0.899, test=0.899) f1_macro: (train=0.158, test=0.158) f1_micro: (train=0.899, test=0.899) f1_weighted: (train=0.851, test=0.851) total time=  57.3s\n",
      "[CV 2/5] END clf__alpha=1.0, vect__max_df=0.5, vect__ngram_range=(1, 2); accuracy: (train=0.899, test=0.899) f1_macro: (train=0.158, test=0.158) f1_micro: (train=0.899, test=0.899) f1_weighted: (train=0.851, test=0.851) total time= 1.0min\n",
      "[CV 3/5] END clf__alpha=1.0, vect__max_df=0.5, vect__ngram_range=(1, 2); accuracy: (train=0.899, test=0.899) f1_macro: (train=0.158, test=0.158) f1_micro: (train=0.899, test=0.899) f1_weighted: (train=0.851, test=0.851) total time= 1.1min\n",
      "[CV 4/5] END clf__alpha=1.0, vect__max_df=0.5, vect__ngram_range=(1, 2); accuracy: (train=0.899, test=0.899) f1_macro: (train=0.158, test=0.158) f1_micro: (train=0.899, test=0.899) f1_weighted: (train=0.851, test=0.851) total time= 1.1min\n",
      "[CV 5/5] END clf__alpha=1.0, vect__max_df=0.5, vect__ngram_range=(1, 2); accuracy: (train=0.899, test=0.899) f1_macro: (train=0.158, test=0.158) f1_micro: (train=0.899, test=0.899) f1_weighted: (train=0.851, test=0.851) total time= 1.2min\n",
      "[CV 1/5] END clf__alpha=1.0, vect__max_df=0.75, vect__ngram_range=(1, 1); accuracy: (train=0.899, test=0.899) f1_macro: (train=0.158, test=0.158) f1_micro: (train=0.899, test=0.899) f1_weighted: (train=0.851, test=0.851) total time=  25.1s\n",
      "[CV 2/5] END clf__alpha=1.0, vect__max_df=0.75, vect__ngram_range=(1, 1); accuracy: (train=0.899, test=0.899) f1_macro: (train=0.158, test=0.158) f1_micro: (train=0.899, test=0.899) f1_weighted: (train=0.851, test=0.851) total time=  24.6s\n",
      "[CV 3/5] END clf__alpha=1.0, vect__max_df=0.75, vect__ngram_range=(1, 1); accuracy: (train=0.899, test=0.899) f1_macro: (train=0.158, test=0.158) f1_micro: (train=0.899, test=0.899) f1_weighted: (train=0.851, test=0.851) total time=  25.3s\n",
      "[CV 4/5] END clf__alpha=1.0, vect__max_df=0.75, vect__ngram_range=(1, 1); accuracy: (train=0.899, test=0.899) f1_macro: (train=0.158, test=0.158) f1_micro: (train=0.899, test=0.899) f1_weighted: (train=0.851, test=0.851) total time=  24.2s\n",
      "[CV 5/5] END clf__alpha=1.0, vect__max_df=0.75, vect__ngram_range=(1, 1); accuracy: (train=0.899, test=0.899) f1_macro: (train=0.158, test=0.158) f1_micro: (train=0.899, test=0.899) f1_weighted: (train=0.851, test=0.851) total time=  25.2s\n",
      "[CV 1/5] END clf__alpha=1.0, vect__max_df=0.75, vect__ngram_range=(1, 2); accuracy: (train=0.899, test=0.899) f1_macro: (train=0.158, test=0.158) f1_micro: (train=0.899, test=0.899) f1_weighted: (train=0.851, test=0.851) total time= 1.1min\n",
      "[CV 2/5] END clf__alpha=1.0, vect__max_df=0.75, vect__ngram_range=(1, 2); accuracy: (train=0.899, test=0.899) f1_macro: (train=0.158, test=0.158) f1_micro: (train=0.899, test=0.899) f1_weighted: (train=0.851, test=0.851) total time= 1.1min\n",
      "[CV 3/5] END clf__alpha=1.0, vect__max_df=0.75, vect__ngram_range=(1, 2); accuracy: (train=0.899, test=0.899) f1_macro: (train=0.158, test=0.158) f1_micro: (train=0.899, test=0.899) f1_weighted: (train=0.851, test=0.851) total time= 1.0min\n",
      "[CV 4/5] END clf__alpha=1.0, vect__max_df=0.75, vect__ngram_range=(1, 2); accuracy: (train=0.899, test=0.899) f1_macro: (train=0.158, test=0.158) f1_micro: (train=0.899, test=0.899) f1_weighted: (train=0.851, test=0.851) total time= 1.0min\n",
      "[CV 5/5] END clf__alpha=1.0, vect__max_df=0.75, vect__ngram_range=(1, 2); accuracy: (train=0.899, test=0.899) f1_macro: (train=0.158, test=0.158) f1_micro: (train=0.899, test=0.899) f1_weighted: (train=0.851, test=0.851) total time=  59.1s\n",
      "[CV 1/5] END clf__alpha=0.01, vect__max_df=0.5, vect__ngram_range=(1, 1); accuracy: (train=0.899, test=0.899) f1_macro: (train=0.158, test=0.158) f1_micro: (train=0.899, test=0.899) f1_weighted: (train=0.851, test=0.851) total time=  19.3s\n",
      "[CV 2/5] END clf__alpha=0.01, vect__max_df=0.5, vect__ngram_range=(1, 1); accuracy: (train=0.899, test=0.899) f1_macro: (train=0.158, test=0.158) f1_micro: (train=0.899, test=0.899) f1_weighted: (train=0.851, test=0.851) total time=  19.6s\n",
      "[CV 3/5] END clf__alpha=0.01, vect__max_df=0.5, vect__ngram_range=(1, 1); accuracy: (train=0.899, test=0.899) f1_macro: (train=0.158, test=0.158) f1_micro: (train=0.899, test=0.899) f1_weighted: (train=0.851, test=0.851) total time=  19.5s\n",
      "[CV 4/5] END clf__alpha=0.01, vect__max_df=0.5, vect__ngram_range=(1, 1); accuracy: (train=0.899, test=0.899) f1_macro: (train=0.158, test=0.158) f1_micro: (train=0.899, test=0.899) f1_weighted: (train=0.851, test=0.851) total time=  19.4s\n",
      "[CV 5/5] END clf__alpha=0.01, vect__max_df=0.5, vect__ngram_range=(1, 1); accuracy: (train=0.899, test=0.899) f1_macro: (train=0.158, test=0.158) f1_micro: (train=0.899, test=0.899) f1_weighted: (train=0.851, test=0.851) total time=  19.3s\n",
      "[CV 1/5] END clf__alpha=0.01, vect__max_df=0.5, vect__ngram_range=(1, 2); accuracy: (train=0.899, test=0.899) f1_macro: (train=0.158, test=0.158) f1_micro: (train=0.899, test=0.899) f1_weighted: (train=0.851, test=0.851) total time=  48.7s\n",
      "[CV 2/5] END clf__alpha=0.01, vect__max_df=0.5, vect__ngram_range=(1, 2); accuracy: (train=0.899, test=0.899) f1_macro: (train=0.158, test=0.158) f1_micro: (train=0.899, test=0.899) f1_weighted: (train=0.851, test=0.851) total time=  49.7s\n",
      "[CV 3/5] END clf__alpha=0.01, vect__max_df=0.5, vect__ngram_range=(1, 2); accuracy: (train=0.899, test=0.899) f1_macro: (train=0.158, test=0.158) f1_micro: (train=0.899, test=0.899) f1_weighted: (train=0.851, test=0.851) total time=  52.8s\n",
      "[CV 4/5] END clf__alpha=0.01, vect__max_df=0.5, vect__ngram_range=(1, 2); accuracy: (train=0.899, test=0.899) f1_macro: (train=0.158, test=0.158) f1_micro: (train=0.899, test=0.899) f1_weighted: (train=0.851, test=0.851) total time=  46.2s\n",
      "[CV 5/5] END clf__alpha=0.01, vect__max_df=0.5, vect__ngram_range=(1, 2); accuracy: (train=0.899, test=0.899) f1_macro: (train=0.158, test=0.158) f1_micro: (train=0.899, test=0.899) f1_weighted: (train=0.851, test=0.851) total time=  44.3s\n",
      "[CV 1/5] END clf__alpha=0.01, vect__max_df=0.75, vect__ngram_range=(1, 1); accuracy: (train=0.899, test=0.899) f1_macro: (train=0.158, test=0.158) f1_micro: (train=0.899, test=0.899) f1_weighted: (train=0.851, test=0.851) total time=  18.6s\n",
      "[CV 2/5] END clf__alpha=0.01, vect__max_df=0.75, vect__ngram_range=(1, 1); accuracy: (train=0.899, test=0.899) f1_macro: (train=0.158, test=0.158) f1_micro: (train=0.899, test=0.899) f1_weighted: (train=0.851, test=0.851) total time=  19.2s\n",
      "[CV 3/5] END clf__alpha=0.01, vect__max_df=0.75, vect__ngram_range=(1, 1); accuracy: (train=0.899, test=0.899) f1_macro: (train=0.158, test=0.158) f1_micro: (train=0.899, test=0.899) f1_weighted: (train=0.851, test=0.851) total time=  18.8s\n",
      "[CV 4/5] END clf__alpha=0.01, vect__max_df=0.75, vect__ngram_range=(1, 1); accuracy: (train=0.899, test=0.899) f1_macro: (train=0.158, test=0.158) f1_micro: (train=0.899, test=0.899) f1_weighted: (train=0.851, test=0.851) total time=  19.3s\n",
      "[CV 5/5] END clf__alpha=0.01, vect__max_df=0.75, vect__ngram_range=(1, 1); accuracy: (train=0.899, test=0.899) f1_macro: (train=0.158, test=0.158) f1_micro: (train=0.899, test=0.899) f1_weighted: (train=0.851, test=0.851) total time=  19.0s\n",
      "[CV 1/5] END clf__alpha=0.01, vect__max_df=0.75, vect__ngram_range=(1, 2); accuracy: (train=0.899, test=0.899) f1_macro: (train=0.158, test=0.158) f1_micro: (train=0.899, test=0.899) f1_weighted: (train=0.851, test=0.851) total time=  48.3s\n",
      "[CV 2/5] END clf__alpha=0.01, vect__max_df=0.75, vect__ngram_range=(1, 2); accuracy: (train=0.899, test=0.899) f1_macro: (train=0.158, test=0.158) f1_micro: (train=0.899, test=0.899) f1_weighted: (train=0.851, test=0.851) total time=  49.3s\n",
      "[CV 3/5] END clf__alpha=0.01, vect__max_df=0.75, vect__ngram_range=(1, 2); accuracy: (train=0.899, test=0.899) f1_macro: (train=0.158, test=0.158) f1_micro: (train=0.899, test=0.899) f1_weighted: (train=0.851, test=0.851) total time=  52.4s\n",
      "[CV 4/5] END clf__alpha=0.01, vect__max_df=0.75, vect__ngram_range=(1, 2); accuracy: (train=0.899, test=0.899) f1_macro: (train=0.158, test=0.158) f1_micro: (train=0.899, test=0.899) f1_weighted: (train=0.851, test=0.851) total time=  43.5s\n",
      "[CV 5/5] END clf__alpha=0.01, vect__max_df=0.75, vect__ngram_range=(1, 2); accuracy: (train=0.899, test=0.899) f1_macro: (train=0.158, test=0.158) f1_micro: (train=0.899, test=0.899) f1_weighted: (train=0.851, test=0.851) total time=  44.5s\n",
      "Best parameters: {'clf__alpha': 1.0, 'vect__max_df': 0.5, 'vect__ngram_range': (1, 1)}\n",
      "Best score: 0.8989190241242083\n"
     ]
    }
   ],
   "source": [
    "pipeline = Pipeline([\n",
    "  ('vect', TfidfVectorizer()),\n",
    "  ('clf', SGDClassifier()),\n",
    "])\n",
    "\n",
    "parameters = {\n",
    "  'vect__max_df': ([0.5, 0.75]),\n",
    "  'vect__ngram_range': ([(1, 1), (1, 2)]), # unigrams or bigrams\n",
    "  'clf__alpha': ([1.0, 0.01]),\n",
    "}\n",
    "\n",
    "scoring = {\n",
    "  'accuracy',\n",
    "  'f1_micro',\n",
    "  'f1_macro',\n",
    "  'f1_weighted'\n",
    "}\n",
    "\n",
    "grid_search = GridSearchCV(estimator=pipeline, param_grid=parameters, n_jobs=None, verbose=3, return_train_score=True, scoring=scoring, refit='f1_micro')\n",
    "\n",
    "grid_search.fit(x_train, y_train)\n",
    "\n",
    "print('Best parameters: {}'.format(grid_search.best_params_))\n",
    "print('Best score: {}'.format(grid_search.best_score_))"
   ]
  },
  {
   "cell_type": "code",
   "execution_count": 52,
   "metadata": {},
   "outputs": [
    {
     "name": "stdout",
     "output_type": "stream",
     "text": [
      "F1 Score (micro): 0.8940811925549065\n"
     ]
    }
   ],
   "source": [
    "best_estimator = grid_search.best_estimator_\n",
    "\n",
    "print('F1 Score (micro): {}'.format(f1_score(y_test, best_estimator.predict(x_test), average='micro')))"
   ]
  },
  {
   "cell_type": "code",
   "execution_count": 53,
   "metadata": {},
   "outputs": [
    {
     "name": "stdout",
     "output_type": "stream",
     "text": [
      "╒═════════════════════════════════╤════════════════╤═════════════════════╤══════════════╤══════════════╤════════════════════╕\n",
      "│ Classifiers                     │   vect__max_df │ vect__ngram_range   │   clf__alpha │   Best Score │   F1 Score - micro │\n",
      "╞═════════════════════════════════╪════════════════╪═════════════════════╪══════════════╪══════════════╪════════════════════╡\n",
      "│ CountVectorizer + SGDClassifier │           0.5  │ (1, 2)              │         0.01 │     0.9196   │           0.937336 │\n",
      "├─────────────────────────────────┼────────────────┼─────────────────────┼──────────────┼──────────────┼────────────────────┤\n",
      "│ TfidfVectorizer + MultinomialNB │           0.75 │ (1, 2)              │         1    │     0.902826 │           0.905575 │\n",
      "├─────────────────────────────────┼────────────────┼─────────────────────┼──────────────┼──────────────┼────────────────────┤\n",
      "│ CountVectorizer + MultinomialNB │           0.75 │ (1, 2)              │         1    │     0.863353 │           0.900288 │\n",
      "├─────────────────────────────────┼────────────────┼─────────────────────┼──────────────┼──────────────┼────────────────────┤\n",
      "│ TfidfVectorizer + SGDClassifier │           0.5  │ (1, 1)              │         1    │     0.898919 │           0.894081 │\n",
      "╘═════════════════════════════════╧════════════════╧═════════════════════╧══════════════╧══════════════╧════════════════════╛\n"
     ]
    }
   ],
   "source": [
    "header = ['Classifiers', 'vect__max_df', 'vect__ngram_range', 'clf__alpha', 'Best Score', 'F1 Score - micro']\n",
    "\n",
    "metrics = []\n",
    "\n",
    "metrics.append(['CountVectorizer + SGDClassifier', '0.5', '(1, 2)', '0.01', '0.919600', '0.937336'])\n",
    "metrics.append(['TfidfVectorizer + MultinomialNB', '0.75', '(1, 2)', '1.0', '0.902826', '0.905575'])\n",
    "metrics.append(['CountVectorizer + MultinomialNB', '0.75', '(1, 2)', '1.0', '0.863353', '0.900288'])\n",
    "metrics.append(['TfidfVectorizer + SGDClassifier', '0.5', '(1, 1)', '1.0', '0.898919', '0.894081'])\n",
    "\n",
    "print(tabulate(metrics, headers=header, tablefmt=\"fancy_grid\"))"
   ]
  }
 ],
 "metadata": {
  "interpreter": {
   "hash": "916dbcbb3f70747c44a77c7bcd40155683ae19c65e1c03b4aa3499c5328201f1"
  },
  "kernelspec": {
   "display_name": "Python 3.8.10 64-bit",
   "language": "python",
   "name": "python3"
  },
  "language_info": {
   "codemirror_mode": {
    "name": "ipython",
    "version": 3
   },
   "file_extension": ".py",
   "mimetype": "text/x-python",
   "name": "python",
   "nbconvert_exporter": "python",
   "pygments_lexer": "ipython3",
   "version": "3.8.10"
  },
  "orig_nbformat": 4
 },
 "nbformat": 4,
 "nbformat_minor": 2
}
